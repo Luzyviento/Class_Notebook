{
 "cells": [
  {
   "cell_type": "markdown",
   "metadata": {},
   "source": [
    "OOP is the creative freedome to make the tools you need.  In a language as complete as python, it gives you amazing powers if you are willing to think.  You use class to name your object followed by the init which allows you to call the instance of the object.  Class object attributes can go before the init that will be inherrited by all instances of the object.  The \"self.\" format is easy and is simply substituted into the general function format learned earlier.  The attributes are the variables and the methods are the functions of the object.  There is even an init to allow you to create what the user sees whenever anyone tries to print your object called \"dunder string method\" using the same format as the init."
   ]
  },
  {
   "cell_type": "code",
   "execution_count": 2,
   "metadata": {},
   "outputs": [],
   "source": [
    "mylist = [1,2,3]"
   ]
  },
  {
   "cell_type": "code",
   "execution_count": 19,
   "metadata": {},
   "outputs": [],
   "source": [
    "class Dog():\n",
    "    #class object attributes can go here before the init\n",
    "    def __init__(self,breed, name, spots):\n",
    "        #attributes are just like variables you assign\n",
    "        self.breed = breed\n",
    "        self.name = name\n",
    "        self.spots = spots\n",
    "        #methods actually do things with your object and attributes\n",
    "    def bark(self):\n",
    "        print('Woof My nane is {}'.format(self.name))"
   ]
  },
  {
   "cell_type": "code",
   "execution_count": 20,
   "metadata": {},
   "outputs": [],
   "source": [
    "my_dog = Dog(breed = 'wiener', name = 'Caesar',spots = False)"
   ]
  },
  {
   "cell_type": "code",
   "execution_count": 21,
   "metadata": {},
   "outputs": [
    {
     "name": "stdout",
     "output_type": "stream",
     "text": [
      "Woof My nane is Caesar\n"
     ]
    }
   ],
   "source": [
    "my_dog.bark()"
   ]
  },
  {
   "cell_type": "code",
   "execution_count": 30,
   "metadata": {},
   "outputs": [],
   "source": [
    "class Circle():\n",
    "    #class object attribute\n",
    "    pi = 3.14\n",
    "    \n",
    "    def __init__ (self, radius = 1):\n",
    "        \n",
    "        self.radius = radius\n",
    "        #attributes can do stuff too\n",
    "        self.area = radius * radius* Circle.pi\n",
    "        \n",
    "        #method\n",
    "    def get_circumference(self):\n",
    "        return self.radius * self.pi * 2"
   ]
  },
  {
   "cell_type": "code",
   "execution_count": 31,
   "metadata": {},
   "outputs": [],
   "source": [
    "my_circle = Circle(30)"
   ]
  },
  {
   "cell_type": "code",
   "execution_count": 33,
   "metadata": {},
   "outputs": [
    {
     "data": {
      "text/plain": [
       "2826.0"
      ]
     },
     "execution_count": 33,
     "metadata": {},
     "output_type": "execute_result"
    }
   ],
   "source": [
    "my_circle.area"
   ]
  },
  {
   "cell_type": "code",
   "execution_count": 35,
   "metadata": {},
   "outputs": [],
   "source": [
    "import rlcompleter, readline  \n",
    "readline.parse_and_bind('tab:complete') \n"
   ]
  },
  {
   "cell_type": "code",
   "execution_count": 36,
   "metadata": {},
   "outputs": [],
   "source": [
    "lst = [1,2,3]"
   ]
  },
  {
   "cell_type": "code",
   "execution_count": 37,
   "metadata": {},
   "outputs": [
    {
     "data": {
      "text/plain": [
       "1"
      ]
     },
     "execution_count": 37,
     "metadata": {},
     "output_type": "execute_result"
    }
   ],
   "source": [
    "lst.count(2)"
   ]
  },
  {
   "cell_type": "code",
   "execution_count": 2,
   "metadata": {},
   "outputs": [],
   "source": [
    "class Account():\n",
    "    \n",
    "    def __init__(self, owner, balance):\n",
    "        \n",
    "        self.owner = owner\n",
    "        self.balance = balance\n",
    "        \n",
    "    def deposit(self,debit):\n",
    "        \n",
    "        self.balance == debit + self.balance\n",
    "        return \"Deposit Accepted\"\n",
    "    \n",
    "    def withdraw(self,credit):\n",
    "        self.balance == self.balance - credit\n",
    "        \n",
    "        if self.balance - credit < 0:\n",
    "            \n",
    "            return \"Funds unavailable\"\n",
    "        else:\n",
    "            return \"Withdrawl Accepted\"\n",
    "        \n",
    "    def __str__(self):\n",
    "        return f\"Owner: {self.owner} \\n Balance: {self.balance}\""
   ]
  },
  {
   "cell_type": "markdown",
   "metadata": {},
   "source": [
    "My biggest problem tends to be forgetting to format things correctly.  My logic tends to be good.  I also still have trouble understanding that is wrong from the defect description.  I am definitely getting stronger though.\n"
   ]
  },
  {
   "cell_type": "code",
   "execution_count": null,
   "metadata": {},
   "outputs": [],
   "source": []
  }
 ],
 "metadata": {
  "kernelspec": {
   "display_name": "Python 3",
   "language": "python",
   "name": "python3"
  },
  "language_info": {
   "codemirror_mode": {
    "name": "ipython",
    "version": 3
   },
   "file_extension": ".py",
   "mimetype": "text/x-python",
   "name": "python",
   "nbconvert_exporter": "python",
   "pygments_lexer": "ipython3",
   "version": "3.7.4"
  }
 },
 "nbformat": 4,
 "nbformat_minor": 2
}
