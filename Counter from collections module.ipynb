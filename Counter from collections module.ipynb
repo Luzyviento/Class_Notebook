{
 "cells": [
  {
   "cell_type": "markdown",
   "metadata": {},
   "source": [
    "Counter module holds a bunch of container data types.  Counter, default dict, ordereddict, and namedtuples."
   ]
  },
  {
   "cell_type": "markdown",
   "metadata": {},
   "source": [
    "Counter counts hashable objects."
   ]
  },
  {
   "cell_type": "code",
   "execution_count": 1,
   "metadata": {},
   "outputs": [],
   "source": [
    "from collections import Counter"
   ]
  },
  {
   "cell_type": "code",
   "execution_count": 3,
   "metadata": {},
   "outputs": [
    {
     "data": {
      "text/plain": [
       "Counter({1: 1, 2: 2, 3: 1, 4: 2, 5: 1, 6: 1})"
      ]
     },
     "execution_count": 3,
     "metadata": {},
     "output_type": "execute_result"
    }
   ],
   "source": [
    "l = [1,2,2,3,4,4,5,6,]\n",
    "Counter(l)"
   ]
  },
  {
   "cell_type": "markdown",
   "metadata": {},
   "source": [
    "It returns a dictionary that tells you how many times a number was listed.  So above, the number 1 showed up twice, the number 2 showed up 3 times, etc.\n",
    "\n",
    "So this tool is great for counting the number of elements in a list and it acts like a dictionary"
   ]
  },
  {
   "cell_type": "code",
   "execution_count": 4,
   "metadata": {},
   "outputs": [
    {
     "data": {
      "text/plain": [
       "Counter({'a': 1,\n",
       "         's': 3,\n",
       "         'd': 2,\n",
       "         'f': 2,\n",
       "         'k': 4,\n",
       "         'l': 2,\n",
       "         ';': 3,\n",
       "         'q': 2,\n",
       "         'w': 2,\n",
       "         'e': 2,\n",
       "         'o': 4,\n",
       "         'r': 2,\n",
       "         'u': 3,\n",
       "         'i': 3,\n",
       "         'z': 2,\n",
       "         'x': 1,\n",
       "         'c': 2,\n",
       "         'm': 2,\n",
       "         'v': 1,\n",
       "         'n': 2,\n",
       "         ',': 1})"
      ]
     },
     "execution_count": 4,
     "metadata": {},
     "output_type": "execute_result"
    }
   ],
   "source": [
    "s = 'asssddffkkkkll;;;qweoruoizxcmvzn,mcnoquiweroiu'\n",
    "Counter(s)"
   ]
  },
  {
   "cell_type": "markdown",
   "metadata": {},
   "source": [
    "Above we also used counter to show us how many times each letter showed up in our string.\n",
    "We can also do this with words in a paragraph as shown below.\n"
   ]
  },
  {
   "cell_type": "code",
   "execution_count": 5,
   "metadata": {},
   "outputs": [],
   "source": [
    "s = 'How many times does each each word word word show show in the sentence'"
   ]
  },
  {
   "cell_type": "code",
   "execution_count": 6,
   "metadata": {},
   "outputs": [
    {
     "data": {
      "text/plain": [
       "Counter({'How': 1,\n",
       "         'many': 1,\n",
       "         'times': 1,\n",
       "         'does': 1,\n",
       "         'each': 2,\n",
       "         'word': 3,\n",
       "         'show': 2,\n",
       "         'in': 1,\n",
       "         'the': 1,\n",
       "         'sentence': 1})"
      ]
     },
     "execution_count": 6,
     "metadata": {},
     "output_type": "execute_result"
    }
   ],
   "source": [
    "words = s.split()\n",
    "Counter(words)"
   ]
  },
  {
   "cell_type": "markdown",
   "metadata": {},
   "source": [
    "Then we can use dot methods to do a lot of other things with the data like finding the most common words or 3 most common words"
   ]
  },
  {
   "cell_type": "code",
   "execution_count": 8,
   "metadata": {},
   "outputs": [
    {
     "data": {
      "text/plain": [
       "[('word', 3), ('each', 2), ('show', 2)]"
      ]
     },
     "execution_count": 8,
     "metadata": {},
     "output_type": "execute_result"
    }
   ],
   "source": [
    "c = Counter(words)\n",
    "c.most_common(3)"
   ]
  },
  {
   "cell_type": "markdown",
   "metadata": {},
   "source": [
    "Common pattersn when using the counter object are sum list, set, dict, most_common, etc\n",
    "\n",
    "You can review each dot method by using the Counter.<tab> that shows all the dot values that can be used.  "
   ]
  },
  {
   "cell_type": "markdown",
   "metadata": {},
   "source": [
    "An interesing method is for finding the least common elements shown here:\n",
    "c.most_common()[:-n-1:-1]\n",
    "n would represent the "
   ]
  },
  {
   "cell_type": "code",
   "execution_count": null,
   "metadata": {},
   "outputs": [],
   "source": []
  }
 ],
 "metadata": {
  "kernelspec": {
   "display_name": "Python 3",
   "language": "python",
   "name": "python3"
  },
  "language_info": {
   "codemirror_mode": {
    "name": "ipython",
    "version": 3
   },
   "file_extension": ".py",
   "mimetype": "text/x-python",
   "name": "python",
   "nbconvert_exporter": "python",
   "pygments_lexer": "ipython3",
   "version": "3.8.1"
  }
 },
 "nbformat": 4,
 "nbformat_minor": 2
}
