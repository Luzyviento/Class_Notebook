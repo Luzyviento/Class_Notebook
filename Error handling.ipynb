{
 "cells": [
  {
   "cell_type": "markdown",
   "metadata": {},
   "source": [
    "Try = code to be attempted that could lead to error\n",
    "\n",
    "except = block of code that executes if there is an error\n",
    "\n",
    "finally = final block of code that gets run regardless"
   ]
  },
  {
   "cell_type": "code",
   "execution_count": 4,
   "metadata": {},
   "outputs": [],
   "source": [
    "def add(n1, n2):\n",
    "    print(n1+n2)"
   ]
  },
  {
   "cell_type": "code",
   "execution_count": 5,
   "metadata": {},
   "outputs": [
    {
     "name": "stdout",
     "output_type": "stream",
     "text": [
      "30\n"
     ]
    }
   ],
   "source": [
    "add(10,20)"
   ]
  },
  {
   "cell_type": "code",
   "execution_count": 6,
   "metadata": {},
   "outputs": [],
   "source": [
    "number1 = 10"
   ]
  },
  {
   "cell_type": "code",
   "execution_count": 31,
   "metadata": {},
   "outputs": [
    {
     "name": "stdout",
     "output_type": "stream",
     "text": [
      "please provide a number:20\n"
     ]
    }
   ],
   "source": [
    "\n",
    "number2 = input(\"please provide a number:\")\n",
    "#number2 = int(number2)"
   ]
  },
  {
   "cell_type": "code",
   "execution_count": 32,
   "metadata": {},
   "outputs": [
    {
     "ename": "TypeError",
     "evalue": "unsupported operand type(s) for +: 'int' and 'str'",
     "output_type": "error",
     "traceback": [
      "\u001b[1;31m---------------------------------------------------------------------------\u001b[0m",
      "\u001b[1;31mTypeError\u001b[0m                                 Traceback (most recent call last)",
      "\u001b[1;32m<ipython-input-32-7f4eeeffd8d5>\u001b[0m in \u001b[0;36m<module>\u001b[1;34m\u001b[0m\n\u001b[1;32m----> 1\u001b[1;33m \u001b[0madd\u001b[0m\u001b[1;33m(\u001b[0m\u001b[0mnumber1\u001b[0m\u001b[1;33m,\u001b[0m \u001b[0mnumber2\u001b[0m\u001b[1;33m)\u001b[0m\u001b[1;33m\u001b[0m\u001b[1;33m\u001b[0m\u001b[0m\n\u001b[0m\u001b[0;32m      2\u001b[0m \u001b[0mprint\u001b[0m\u001b[1;33m(\u001b[0m\u001b[1;34m\"something happened\"\u001b[0m\u001b[1;33m)\u001b[0m\u001b[1;33m\u001b[0m\u001b[1;33m\u001b[0m\u001b[0m\n",
      "\u001b[1;32m<ipython-input-4-83ad4742d2aa>\u001b[0m in \u001b[0;36madd\u001b[1;34m(n1, n2)\u001b[0m\n\u001b[0;32m      1\u001b[0m \u001b[1;32mdef\u001b[0m \u001b[0madd\u001b[0m\u001b[1;33m(\u001b[0m\u001b[0mn1\u001b[0m\u001b[1;33m,\u001b[0m \u001b[0mn2\u001b[0m\u001b[1;33m)\u001b[0m\u001b[1;33m:\u001b[0m\u001b[1;33m\u001b[0m\u001b[1;33m\u001b[0m\u001b[0m\n\u001b[1;32m----> 2\u001b[1;33m     \u001b[0mprint\u001b[0m\u001b[1;33m(\u001b[0m\u001b[0mn1\u001b[0m\u001b[1;33m+\u001b[0m\u001b[0mn2\u001b[0m\u001b[1;33m)\u001b[0m\u001b[1;33m\u001b[0m\u001b[1;33m\u001b[0m\u001b[0m\n\u001b[0m",
      "\u001b[1;31mTypeError\u001b[0m: unsupported operand type(s) for +: 'int' and 'str'"
     ]
    }
   ],
   "source": [
    "add(number1, number2)\n",
    "print(\"something happened\")"
   ]
  },
  {
   "cell_type": "markdown",
   "metadata": {},
   "source": [
    "Above is the error from trying to add a str and an int per the error message.  The entire program crashes.  By utilizing the try, except, finally paradigm, we can avoid a total crash even if the program isn't getting what it wants.  \n",
    "Below you can see an example with an else statement included.  This allows you to do something if your try attempt works."
   ]
  },
  {
   "cell_type": "code",
   "execution_count": 33,
   "metadata": {},
   "outputs": [
    {
     "name": "stdout",
     "output_type": "stream",
     "text": [
      "Hey it looks like you aren't adding correctly\n"
     ]
    }
   ],
   "source": [
    "try:#an attempted function call\n",
    "    add(number1, number2)\n",
    "except:#what to do if the attempt fails\n",
    "    print(\"Hey it looks like you aren't adding correctly\")\n",
    "    #then the else statement to do something if it functions correctly or for testing\n",
    "else:\n",
    "    print(\"it looks ok\")"
   ]
  },
  {
   "cell_type": "markdown",
   "metadata": {},
   "source": [
    "Now lets try a finally statement."
   ]
  },
  {
   "cell_type": "code",
   "execution_count": 40,
   "metadata": {},
   "outputs": [
    {
     "name": "stdout",
     "output_type": "stream",
     "text": [
      "all errors\n",
      "cool shit\n"
     ]
    }
   ],
   "source": [
    "try:\n",
    "    f = open('testfile', 'r')\n",
    "    f.write (\"write something\")\n",
    "except TypeError:#you can use except: or except followed by a type of error\n",
    "    print('there was a type error')\n",
    "except :\n",
    "    print('all errors')\n",
    "finally:\n",
    "    print('cool shit')\n",
    "    "
   ]
  },
  {
   "cell_type": "markdown",
   "metadata": {},
   "source": [
    "always start with try to attempt\n",
    "follow up with except to give the action for the error\n",
    "follow up with else if you want an alternate if all runs correctly\n",
    "finish with finally if you have code to run regardless of errors\n",
    "This can be handy for taking specific input and handling the errors to keep from crashing"
   ]
  },
  {
   "cell_type": "code",
   "execution_count": 51,
   "metadata": {},
   "outputs": [],
   "source": [
    "def ask_for_int():\n",
    "    while True:\n",
    "        try:\n",
    "            result = int(input(\"please provide number: \"))\n",
    "        except:\n",
    "            print(\"oops, that is not a number\")\n",
    "            continue\n",
    "        else:\n",
    "            print(\"good\")\n",
    "            break\n",
    "            \n",
    "        finally:\n",
    "            print(\"end of try\")"
   ]
  },
  {
   "cell_type": "code",
   "execution_count": 52,
   "metadata": {},
   "outputs": [
    {
     "name": "stdout",
     "output_type": "stream",
     "text": [
      "please provide number: SEW\n",
      "oops, that is not a number\n",
      "end of try\n",
      "please provide number: SD\n",
      "oops, that is not a number\n",
      "end of try\n",
      "please provide number: SDS\n",
      "oops, that is not a number\n",
      "end of try\n",
      "please provide number: 23\n",
      "good\n",
      "end of try\n"
     ]
    }
   ],
   "source": [
    "ask_for_int()\n"
   ]
  },
  {
   "cell_type": "markdown",
   "metadata": {},
   "source": [
    "Learned about and installed pylint.  Created simply.py to try it out and experiment along with the lecture.  Now it is on to unit testing.\n",
    "Unittest allows you to write your own testing programs that analyzes results against expected results.  It seems like the testing portion of this course was a bit shallow.  I understand only because of the recent podcasts I've listened to on testing.  It appears to be a field in and of itself requiring a substantial amount of experience.  Based on mulitple conversations, I think it is more dependent on knowledge gleaned from senior techs with whom you affiliate and less on any knowlwedge base to which newbies would have easy access."
   ]
  },
  {
   "cell_type": "code",
   "execution_count": null,
   "metadata": {},
   "outputs": [],
   "source": []
  }
 ],
 "metadata": {
  "kernelspec": {
   "display_name": "Python 3",
   "language": "python",
   "name": "python3"
  },
  "language_info": {
   "codemirror_mode": {
    "name": "ipython",
    "version": 3
   },
   "file_extension": ".py",
   "mimetype": "text/x-python",
   "name": "python",
   "nbconvert_exporter": "python",
   "pygments_lexer": "ipython3",
   "version": "3.7.4"
  }
 },
 "nbformat": 4,
 "nbformat_minor": 2
}
