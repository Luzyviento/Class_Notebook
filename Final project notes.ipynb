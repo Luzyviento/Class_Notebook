{
 "cells": [
  {
   "cell_type": "markdown",
   "metadata": {},
   "source": [
    "For my final project, the following look intersting to me:\n",
    "\n",
    "caesar cipher  -    -    -    -   -  possible easy one\n",
    "\n",
    "budget tracker -    -    -    -   -  possible easy one\n",
    "\n",
    "Sort Excel CSV Utility -     -    -- one for work\n",
    "\n",
    "Page Scraper - - - - - - - - - - - - Maria could use\n",
    "\n",
    "Family tree creator -              - possible easy one\n",
    "\n",
    "Product Inventory Project -      -   one for work\n",
    "\n",
    "Site Checker with Time Scheduling -  Maria could use\n",
    "\n",
    "whois search tool\n",
    "\n",
    "quote tracker\n",
    "\n",
    "Sorting\n",
    "Coin flip simulation\n",
    "\n",
    "change return program -          - - possible easy one\n",
    "\n",
    "Cost of tile to cover floor -    -   possible easy one"
   ]
  },
  {
   "cell_type": "markdown",
   "metadata": {},
   "source": [
    "For the easy one, I'm thinking caesar, budget, or tile.\n",
    "For the hard one, I'm thinking site checker, product inventory, or sort excel.\n",
    "\n",
    "The scary part is that I'm not even sure of how hard any of these are.  The ones I've seen already give me an idea of what they are, but if I go on to something novel, I run the risk of biting off too much.  Just like in climbing, it is hard to tell what is difficult without some sort of rating for newbies.  I could just focus on the ones I can work on at work.  If they are for work, they are a project and I can get paid to learn to code.  That would be ideal.  If it is going to take me a week, it better if it is something I can do at work.  Anything I learn can still be used for other projects."
   ]
  },
  {
   "cell_type": "code",
   "execution_count": 2,
   "metadata": {},
   "outputs": [],
   "source": [
    "def tile_cover_room(W,L,C):\n",
    "    \"\"\" This function returns the cost to tile an area in dollars.\n",
    "    It takes three arguments: width of the room, length of the room, cost per tile\"\"\"\n",
    "    pass"
   ]
  },
  {
   "cell_type": "markdown",
   "metadata": {},
   "source": [
    "Find Cost of Tile to Cover W x H Floor - Calculate the total cost of tile it would take to cover a floor plan of width and height, using a cost entered by the user\n",
    "\n"
   ]
  },
  {
   "cell_type": "markdown",
   "metadata": {},
   "source": [
    "This project will require a few functions:\n",
    "One to create a cost per tile of whatever the customer is using.\n",
    "One to collect the square footage of the floor plan via input into room / hall classes.\n",
    "One to calculate the actual number of tiles and cost per tile."
   ]
  },
  {
   "cell_type": "markdown",
   "metadata": {},
   "source": [
    "This will be my one day project ... I think."
   ]
  },
  {
   "cell_type": "markdown",
   "metadata": {},
   "source": [
    "For my hard one, I think I'll go for the product inventory one.  I've been saying I would do that for ages.  It would make me look good and keep my work going a little longer while increasing my skillset at work for work."
   ]
  },
  {
   "cell_type": "markdown",
   "metadata": {},
   "source": [
    "Product Inventory Project - Create an application which manages an inventory of products. Create a product class which has a price, id, and quantity on hand. Then create an inventory class which keeps track of various products and can sum up the inventory value."
   ]
  },
  {
   "cell_type": "markdown",
   "metadata": {},
   "source": [
    "Instead of doing one that does this exactly, I think I will see what the scanners pick up first.  If I can tie the barcode to an input on my program for incoming and outgoing, I can keep track of all pucks on hand without manually counting.  Then with the prices of the pucks, I can report amount of shades, types, and value of the stock.  This would be more useful.  Then it might be possible to make it show what needs to be ordered after transaction that takes it below minimun level on a product."
   ]
  },
  {
   "cell_type": "markdown",
   "metadata": {},
   "source": [
    "I ended up ginding part of what I needed to do a project that helps Maria with her part time job.\n",
    "It didn't go as expected and she doesn't use it due to the format of her websites.  I can still make it happen, but it would require more time than I allotted.  I did have to learn to use a python parser called beautiful soup.  I am still learning about it, but I got enough info to do what I needed to do.  Here is the code:"
   ]
  },
  {
   "cell_type": "markdown",
   "metadata": {},
   "source": [
    "#Final capstone prject for class that helps Maria with her work.\n",
    "#This is a simple page scraper that notifies Maria that the site\n",
    "#she has to check for prices has uploaded them.\n",
    "import requests\n",
    "from bs4 import BeautifulSoup\n",
    "import time\n",
    "import smtplib\n",
    "\n",
    "while True:\n",
    "    #Change the url to the site you want to scrape inside of quotes\n",
    "    url = \"https://fitmid-life.blogspot.com/\"\n",
    "    headers = {'user-agent': 'Mozilla/5.0 (Windows NT 10.0; Win64; x64) AppleWebKit/537.36 (KHTML, like Gecko) Chrome/80.0.3987.116 Safari/537.36'}\n",
    "    response = requests.get(url, headers=headers)\n",
    "    soup = BeautifulSoup(response.text, \"lxml\")\n",
    "\n",
    "    #Set up some logic to trigger when what you are waiting for loads or something specific Changes\n",
    "    #If you put the word or phrase you want in the quotes, when it pops up you get a trigger\n",
    "    if str(soup).find(\"Testy\") == -1:\n",
    "        #delay prior to continuing to loop\n",
    "        time.sleep(30)\n",
    "        continue\n",
    "    else:\n",
    "        #Enter the subject line of the email you want along with to and from\n",
    "        #email addresses\n",
    "        msg = 'Subject: WAKE UP!  The site uploaded!'\n",
    "        fromaddr = 'testblank69@gmail.com'\n",
    "        toaddrs = ['tsdrolando@gmail.com']\n",
    "        #setup the email server\n",
    "        server = smtplib.SMTP('smtp.gmail.com', 587)\n",
    "        server.starttls()\n",
    "        #I didn't use my password because I use git in this file\n",
    "        server.login(\"testblank@gmail.com\", \"password\")\n",
    "\n",
    "        #email contents\n",
    "        print('From: ' + fromaddr)\n",
    "        print('To: ' + str(toaddrs))\n",
    "        print('Message: ' + msg)\n",
    "\n",
    "        #send email\n",
    "        server.sendmail(fromaddr, toaddrs, msg)\n",
    "        #disconnect\n",
    "        server.quit()\n",
    "\n",
    "        break\n"
   ]
  },
  {
   "cell_type": "markdown",
   "metadata": {},
   "source": [
    "My longer project is a work project and I found a core program that I can use.  I read through so I could understand what it did.  It is a little more than what I need, but I decided to use it anyway.  By the time I am done, it won't look like the original at all.  As I understand it, this is common amongst coders.  Everyone puts their code on git so that everyone else can use it for their own purposes.  I like this sort of shared repository.  It makes me feel like part of a community for the first time in my life.  I know I am not a significant force, but I exist in this sphere of influence now.  I can only grow.  My program will count pucks at work via a unique identifier barcode.  It will list the total "
   ]
  }
 ],
 "metadata": {
  "kernelspec": {
   "display_name": "Python 3",
   "language": "python",
   "name": "python3"
  },
  "language_info": {
   "codemirror_mode": {
    "name": "ipython",
    "version": 3
   },
   "file_extension": ".py",
   "mimetype": "text/x-python",
   "name": "python",
   "nbconvert_exporter": "python",
   "pygments_lexer": "ipython3",
   "version": "3.8.1"
  }
 },
 "nbformat": 4,
 "nbformat_minor": 2
}
