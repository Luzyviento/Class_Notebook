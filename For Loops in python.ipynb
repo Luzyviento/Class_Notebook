{
 "cells": [
  {
   "cell_type": "markdown",
   "metadata": {},
   "source": [
    "Creating a list or other data structure is necessary for experimenting with \"for\" loops / iterations.  Building larger ones can be easy."
   ]
  },
  {
   "cell_type": "code",
   "execution_count": 23,
   "metadata": {},
   "outputs": [],
   "source": [
    "list1 = [1,2,3,4,5,6,7,8,9,]\n",
    "list2 = list1*4 \n"
   ]
  },
  {
   "cell_type": "code",
   "execution_count": 24,
   "metadata": {},
   "outputs": [
    {
     "name": "stdout",
     "output_type": "stream",
     "text": [
      "1\n",
      "2\n",
      "3\n",
      "4\n",
      "5\n",
      "6\n",
      "7\n",
      "8\n",
      "9\n",
      "1\n",
      "2\n",
      "3\n",
      "4\n",
      "5\n",
      "6\n",
      "7\n",
      "8\n",
      "9\n",
      "1\n",
      "2\n",
      "3\n",
      "4\n",
      "5\n",
      "6\n",
      "7\n",
      "8\n",
      "9\n",
      "1\n",
      "2\n",
      "3\n",
      "4\n",
      "5\n",
      "6\n",
      "7\n",
      "8\n",
      "9\n"
     ]
    }
   ],
   "source": [
    "for num in list2:\n",
    "    print(num)"
   ]
  },
  {
   "cell_type": "markdown",
   "metadata": {},
   "source": [
    "The same manipulations can be done with tuples (which are in parentheses)"
   ]
  },
  {
   "cell_type": "code",
   "execution_count": 4,
   "metadata": {},
   "outputs": [],
   "source": [
    "tup = (1,2,3,4,5,6,7,8,9,10)"
   ]
  },
  {
   "cell_type": "code",
   "execution_count": 5,
   "metadata": {},
   "outputs": [
    {
     "data": {
      "text/plain": [
       "(1, 2, 3, 4, 5, 6, 7, 8, 9, 10)"
      ]
     },
     "execution_count": 5,
     "metadata": {},
     "output_type": "execute_result"
    }
   ],
   "source": [
    "tup"
   ]
  },
  {
   "cell_type": "markdown",
   "metadata": {},
   "source": [
    "I've learned that in order for me to concatenate numbers and strings, I must first cast the number as a string.  My professor's examples do not require this for some reason.  He taught me to use f. string literates which are much easier than anything else, but he doesn't seem to be using this in the examples in which I must cast strings."
   ]
  },
  {
   "cell_type": "code",
   "execution_count": 20,
   "metadata": {},
   "outputs": [
    {
     "name": "stdout",
     "output_type": "stream",
     "text": [
      "1 is a number\n",
      "2 is a number\n",
      "3 is a number\n",
      "4 is a number\n",
      "5 is a number\n",
      "6 is a number\n",
      "7 is a number\n",
      "8 is a number\n",
      "9 is a number\n",
      "10 is a number\n"
     ]
    }
   ],
   "source": [
    "for i in tup:\n",
    "    print(str(i) +' is a number')\n",
    "    "
   ]
  },
  {
   "cell_type": "markdown",
   "metadata": {},
   "source": [
    "I think this would be the equivalent of above in f.string style.\n",
    "It is significantly easier to remember and does not require a type cast for the number.  I fell in love with it immediately, but it is only available on the newest python versions at the moment."
   ]
  },
  {
   "cell_type": "code",
   "execution_count": 29,
   "metadata": {},
   "outputs": [
    {
     "name": "stdout",
     "output_type": "stream",
     "text": [
      "1 is a number\n",
      "2 is a number\n",
      "3 is a number\n",
      "4 is a number\n",
      "5 is a number\n",
      "6 is a number\n",
      "7 is a number\n",
      "8 is a number\n",
      "9 is a number\n",
      "10 is a number\n"
     ]
    }
   ],
   "source": [
    "for i in tup:\n",
    "    print(f'{i} is a number')"
   ]
  },
  {
   "cell_type": "markdown",
   "metadata": {},
   "source": [
    "The method for the standard .format is shown below.  It is also simple, but requires that I remember to create a variable to take the place of the iterable variable I used in the for loop.  I'm not sure why it errors without the second variable, but it does.  That instantly makes fstring literals my favorite."
   ]
  },
  {
   "cell_type": "code",
   "execution_count": 31,
   "metadata": {},
   "outputs": [
    {
     "name": "stdout",
     "output_type": "stream",
     "text": [
      "2 is even\n",
      "4 is even\n",
      "6 is even\n",
      "8 is even\n"
     ]
    }
   ],
   "source": [
    "for i in list1:\n",
    "    if i %2 == 0:\n",
    "        print('{r} is even'.format(r = i))"
   ]
  },
  {
   "cell_type": "markdown",
   "metadata": {},
   "source": [
    "Another common for loop addition is another variable that represents a running count.  While I recall seeing this before, I am unsure how it was used.  My instructor used it to show another way to do Gaussian addition of consecutive numbers.  As an example he created a list of 1 through 10 and iterated through them while adding the iterable variable to the tallying variable.  This worked just like the Gaussian method of splitting the numbers over each other and multiplying the sum of any column by the number of columns (example:\n",
    "1  2 3 4 5\n",
    "10 9 8 7 6  = 11 X 5columns = 55\n"
   ]
  },
  {
   "cell_type": "code",
   "execution_count": 33,
   "metadata": {},
   "outputs": [
    {
     "name": "stdout",
     "output_type": "stream",
     "text": [
      "55\n"
     ]
    }
   ],
   "source": [
    "isum = 0\n",
    "for i in tup:\n",
    "    isum = isum + i\n",
    "    \n",
    "print(isum)"
   ]
  },
  {
   "cell_type": "markdown",
   "metadata": {},
   "source": [
    "The program above does it more like this:\n",
    "t  sum num\ttotal = sum on next round\n",
    "1\t0\t0\t0\n",
    "2\t0\t1\t1\n",
    "3\t1\t2\t3\n",
    "4\t3\t3\t6\n",
    "5\t6\t4\t10\n",
    "6\t10\t5\t15\n",
    "7\t15\t6\t21\n",
    "8\t21\t7\t28\n",
    "9\t28\t8\t36\n",
    "10\t36\t9\t45\n",
    "11\t45\t10\t55\n",
    "\n",
    "It is a cool trick."
   ]
  },
  {
   "cell_type": "markdown",
   "metadata": {},
   "source": [
    "Tuple unpacking was the next lesson by my professor.  It required a list of tuple pairs that we could unpack using a for loop with multiple variables in order to pick what we wanted via printing one or both of the variables."
   ]
  },
  {
   "cell_type": "code",
   "execution_count": 34,
   "metadata": {},
   "outputs": [],
   "source": [
    "tuplst = [(2,3),(34,98),(23,25),(98,8)]"
   ]
  },
  {
   "cell_type": "code",
   "execution_count": 37,
   "metadata": {},
   "outputs": [
    {
     "name": "stdout",
     "output_type": "stream",
     "text": [
      "3\n",
      "98\n",
      "25\n",
      "8\n"
     ]
    }
   ],
   "source": [
    "for a,b in tuplst:\n",
    "    print(b)"
   ]
  },
  {
   "cell_type": "markdown",
   "metadata": {},
   "source": [
    "The same kind of thing worked for dictionaries except we used .items.  There were other choices if you hit tab after the dot.  .Keys gave the keys, .values gave the value assigned to the key, and .item gave both."
   ]
  },
  {
   "cell_type": "code",
   "execution_count": 38,
   "metadata": {},
   "outputs": [],
   "source": [
    "dic={'key1':'mango', 'key2':'orange', 'key3':'banana'}"
   ]
  },
  {
   "cell_type": "code",
   "execution_count": 40,
   "metadata": {},
   "outputs": [
    {
     "name": "stdout",
     "output_type": "stream",
     "text": [
      "key1\n",
      "key2\n",
      "key3\n"
     ]
    }
   ],
   "source": [
    "for i in dic:\n",
    "    print(i)"
   ]
  },
  {
   "cell_type": "code",
   "execution_count": 42,
   "metadata": {},
   "outputs": [
    {
     "name": "stdout",
     "output_type": "stream",
     "text": [
      "('key1', 'mango')\n",
      "('key2', 'orange')\n",
      "('key3', 'banana')\n"
     ]
    }
   ],
   "source": [
    "for i in dic.items():\n",
    "    print(i)"
   ]
  },
  {
   "cell_type": "code",
   "execution_count": 43,
   "metadata": {},
   "outputs": [
    {
     "name": "stdout",
     "output_type": "stream",
     "text": [
      "mango\n",
      "orange\n",
      "banana\n"
     ]
    }
   ],
   "source": [
    "for i in dic.values():\n",
    "    print(i)"
   ]
  },
  {
   "cell_type": "markdown",
   "metadata": {},
   "source": [
    "The main problem I have with using .tools is that one must remember to include the empty parenteses () or it doesn't work.  The error messages are still a little cryptic to me and I must get better at understanding them."
   ]
  }
 ],
 "metadata": {
  "kernelspec": {
   "display_name": "Python 3",
   "language": "python",
   "name": "python3"
  },
  "language_info": {
   "codemirror_mode": {
    "name": "ipython",
    "version": 3
   },
   "file_extension": ".py",
   "mimetype": "text/x-python",
   "name": "python",
   "nbconvert_exporter": "python",
   "pygments_lexer": "ipython3",
   "version": "3.7.4"
  }
 },
 "nbformat": 4,
 "nbformat_minor": 2
}
