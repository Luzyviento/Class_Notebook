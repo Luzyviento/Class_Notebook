{
 "cells": [
  {
   "cell_type": "code",
   "execution_count": null,
   "metadata": {},
   "outputs": [],
   "source": [
    "# Modules contain other python objects.  To see all available modules, use help('modules') -- note the quotes\n",
    "#This will show you the modules available for import."
   ]
  },
  {
   "cell_type": "code",
   "execution_count": 19,
   "metadata": {},
   "outputs": [
    {
     "name": "stdout",
     "output_type": "stream",
     "text": [
      "\n",
      "Please wait a moment while I gather a list of all available modules...\n",
      "\n",
      "IPython             brain_nose          kiwisolver          ssl\n",
      "MyMainPackage       brain_numpy_core_fromnumeric lazy_object_proxy   sspi\n",
      "PyPDF2              brain_numpy_core_function_base lib2to3             sspicon\n",
      "__future__          brain_numpy_core_multiarray linecache           stat\n",
      "_abc                brain_numpy_core_numeric locale              statistics\n",
      "_ast                brain_numpy_core_numerictypes logging             statsmodels\n",
      "_asyncio            brain_numpy_core_umath lxml                storemagic\n",
      "_bisect             brain_numpy_ndarray lzma                string\n",
      "_blake2             brain_numpy_random_mtrand mailbox             stringprep\n",
      "_bootlocale         brain_numpy_utils   mailcap             struct\n",
      "_bz2                brain_pkg_resources markupsafe          subprocess\n",
      "_codecs             brain_pytest        marshal             sunau\n",
      "_codecs_cn          brain_qt            math                symbol\n",
      "_codecs_hk          brain_random        matplotlib          sympyprinting\n",
      "_codecs_iso2022     brain_re            mccabe              symtable\n",
      "_codecs_jp          brain_six           mimetypes           sys\n",
      "_codecs_kr          brain_ssl           mistune             sysconfig\n",
      "_codecs_tw          brain_subprocess    mmap                tabnanny\n",
      "_collections        brain_threading     mmapfile            tarfile\n",
      "_collections_abc    brain_typing        mmsystem            telnetlib\n",
      "_compat_pickle      brain_uuid          modulefinder        tempfile\n",
      "_compression        bs4                 msilib              terminado\n",
      "_contextvars        builtins            msvcrt              test\n",
      "_csv                bz2                 multiprocessing     testpath\n",
      "_ctypes             cProfile            my_puck_inventory   tests\n",
      "_ctypes_test        calendar            mymodule            textwrap\n",
      "_datetime           certifi             myprogram           this\n",
      "_decimal            cgi                 nbconvert           threading\n",
      "_dummy_thread       cgitb               nbformat            time\n",
      "_elementtree        chardet             netbios             timeit\n",
      "_functools          chunk               netrc               timer\n",
      "_hashlib            click               nltk                tkinter\n",
      "_heapq              cmath               nntplib             token\n",
      "_imp                cmd                 notebook            tokenize\n",
      "_io                 code                nt                  tornado\n",
      "_json               codecs              ntpath              tqdm\n",
      "_locale             codeop              ntsecuritycon       trace\n",
      "_lsprof             collections         nturl2path          traceback\n",
      "_lzma               colorama            numbers             tracemalloc\n",
      "_markupbase         colorsys            numpy               traitlets\n",
      "_md5                commctrl            odbc                tty\n",
      "_msi                compileall          opcode              turtle\n",
      "_multibytecodec     concurrent          openpyxl            turtledemo\n",
      "_multiprocessing    configparser        operator            types\n",
      "_opcode             contextlib          optparse            typing\n",
      "_operator           contextvars         os                  unicodedata\n",
      "_osx_support        copy                pandas              unittest\n",
      "_overlapped         copyreg             pandas_datareader   urllib\n",
      "_pickle             crypt               pandocfilters       urllib3\n",
      "_py_abc             csv                 parser              uu\n",
      "_pydecimal          ctypes              parso               uuid\n",
      "_pyio               curses              pathlib             venv\n",
      "_pyrsistent_version cycler              patsy               virtualenv\n",
      "_queue              cythonmagic         pdb                 warnings\n",
      "_random             dataclasses         perfmon             wave\n",
      "_sha1               datetime            pickle              wcwidth\n",
      "_sha256             dateutil            pickleshare         weakref\n",
      "_sha3               dbi                 pickletools         webbrowser\n",
      "_sha512             dbm                 pip                 webencodings\n",
      "_signal             dde                 pipes               werkzeug\n",
      "_sitebuiltins       decimal             pkg_resources       wheel\n",
      "_socket             decorator           pkgutil             widgetsnbextension\n",
      "_sqlite3            defusedxml          platform            win2kras\n",
      "_sre                difflib             plistlib            win32api\n",
      "_ssl                dis                 poplib              win32clipboard\n",
      "_stat               distlib             posixpath           win32com\n",
      "_statistics         distutils           pprint              win32con\n",
      "_string             doctest             profile             win32console\n",
      "_strptime           dummy_threading     prometheus_client   win32cred\n",
      "_struct             easy_install        prompt_toolkit      win32crypt\n",
      "_symtable           email               pstats              win32cryptcon\n",
      "_testbuffer         encodings           pty                 win32event\n",
      "_testcapi           ensurepip           py_compile          win32evtlog\n",
      "_testconsole        entrypoints         pyclbr              win32evtlogutil\n",
      "_testimportmultiple enum                pydoc               win32file\n",
      "_testmultiphase     errno               pydoc_data          win32gui\n",
      "_thread             et_xmlfile          pyexpat             win32gui_struct\n",
      "_threading_local    faulthandler        pygments            win32help\n",
      "_tkinter            filecmp             pylab               win32inet\n",
      "_tracemalloc        fileinput           pylint              win32inetcon\n",
      "_warnings           filelock            pyparsing           win32job\n",
      "_weakref            first_project       pyrsistent          win32lz\n",
      "_weakrefset         flask               pythoncom           win32net\n",
      "_win32sysloader     flask_sqlalchemy    pytz                win32netcon\n",
      "_winapi             fnmatch             pywin               win32pdh\n",
      "_winxptheme         formatter           pywin32_bootstrap   win32pdhquery\n",
      "_xxsubinterpreters  fractions           pywin32_testutil    win32pdhutil\n",
      "abc                 ftplib              pywintypes          win32pipe\n",
      "adodbapi            functools           queue               win32print\n",
      "afxres              gc                  quopri              win32process\n",
      "aifc                genericpath         random              win32profile\n",
      "antigravity         getopt              rasutil             win32ras\n",
      "appdirs             getpass             re                  win32rcparser\n",
      "argparse            gettext             regcheck            win32security\n",
      "array               glob                regex               win32service\n",
      "ast                 gzip                regutil             win32serviceutil\n",
      "astroid             hashlib             reprlib             win32timezone\n",
      "asynchat            heapq               requests            win32trace\n",
      "asyncio             hmac                rlcompleter         win32traceutil\n",
      "asyncore            html                rmagic              win32transaction\n",
      "atexit              html5lib            runpy               win32ts\n",
      "attr                http                sched               win32ui\n",
      "audioop             idlelib             scipy               win32uiole\n",
      "autoreload          idna                seaborn             win32verstamp\n",
      "backcall            imaplib             secrets             win32wnet\n",
      "base64              imghdr              select              winerror\n",
      "bdb                 imp                 selectors           winioctlcon\n",
      "binascii            importlib           send2trash          winnt\n",
      "binhex              inspect             servicemanager      winperf\n",
      "bisect              io                  setuptools          winpty\n",
      "blackjack_proj2     ipaddress           shelve              winreg\n",
      "bleach              ipykernel           shlex               winsound\n",
      "brain_argparse      ipykernel_launcher  shutil              winxpgui\n",
      "brain_attrs         ipython_genutils    signal              winxptheme\n",
      "brain_builtin_inference ipywidgets          simple1             wrapt\n",
      "brain_collections   isapi               site                wsgiref\n",
      "brain_crypt         isort               six                 xdrlib\n",
      "brain_curses        itertools           sklearn             xlrd\n",
      "brain_dataclasses   itsdangerous        smtpd               xml\n",
      "brain_dateutil      jdcal               smtplib             xmlrpc\n",
      "brain_fstrings      jedi                sndhdr              xxsubtype\n",
      "brain_functools     jinja2              socket              zipapp\n",
      "brain_gi            joblib              socketserver        zipfile\n",
      "brain_hashlib       json                soupsieve           zipimport\n",
      "brain_http          jsonschema          sqlalchemy          zlib\n",
      "brain_io            jupyter             sqlite3             zmq\n",
      "brain_mechanize     jupyter_client      sre_compile         \n",
      "brain_multiprocessing jupyter_core        sre_constants       \n",
      "brain_namedtuple_enum keyword             sre_parse           \n",
      "\n",
      "Enter any module name to get more help.  Or, type \"modules spam\" to search\n",
      "for modules whose name or summary contain the string \"spam\".\n",
      "\n"
     ]
    }
   ],
   "source": [
    "help('modules')"
   ]
  },
  {
   "cell_type": "code",
   "execution_count": 3,
   "metadata": {},
   "outputs": [],
   "source": [
    "#We can pick one to import \n",
    "import math\n",
    "#used to bring in calulator like functions"
   ]
  },
  {
   "cell_type": "code",
   "execution_count": 20,
   "metadata": {},
   "outputs": [
    {
     "name": "stdout",
     "output_type": "stream",
     "text": [
      "Help on built-in module math:\n",
      "\n",
      "NAME\n",
      "    math\n",
      "\n",
      "DESCRIPTION\n",
      "    This module provides access to the mathematical functions\n",
      "    defined by the C standard.\n",
      "\n",
      "FUNCTIONS\n",
      "    acos(x, /)\n",
      "        Return the arc cosine (measured in radians) of x.\n",
      "    \n",
      "    acosh(x, /)\n",
      "        Return the inverse hyperbolic cosine of x.\n",
      "    \n",
      "    asin(x, /)\n",
      "        Return the arc sine (measured in radians) of x.\n",
      "    \n",
      "    asinh(x, /)\n",
      "        Return the inverse hyperbolic sine of x.\n",
      "    \n",
      "    atan(x, /)\n",
      "        Return the arc tangent (measured in radians) of x.\n",
      "    \n",
      "    atan2(y, x, /)\n",
      "        Return the arc tangent (measured in radians) of y/x.\n",
      "        \n",
      "        Unlike atan(y/x), the signs of both x and y are considered.\n",
      "    \n",
      "    atanh(x, /)\n",
      "        Return the inverse hyperbolic tangent of x.\n",
      "    \n",
      "    ceil(x, /)\n",
      "        Return the ceiling of x as an Integral.\n",
      "        \n",
      "        This is the smallest integer >= x.\n",
      "    \n",
      "    comb(n, k, /)\n",
      "        Number of ways to choose k items from n items without repetition and without order.\n",
      "        \n",
      "        Evaluates to n! / (k! * (n - k)!) when k <= n and evaluates\n",
      "        to zero when k > n.\n",
      "        \n",
      "        Also called the binomial coefficient because it is equivalent\n",
      "        to the coefficient of k-th term in polynomial expansion of the\n",
      "        expression (1 + x)**n.\n",
      "        \n",
      "        Raises TypeError if either of the arguments are not integers.\n",
      "        Raises ValueError if either of the arguments are negative.\n",
      "    \n",
      "    copysign(x, y, /)\n",
      "        Return a float with the magnitude (absolute value) of x but the sign of y.\n",
      "        \n",
      "        On platforms that support signed zeros, copysign(1.0, -0.0)\n",
      "        returns -1.0.\n",
      "    \n",
      "    cos(x, /)\n",
      "        Return the cosine of x (measured in radians).\n",
      "    \n",
      "    cosh(x, /)\n",
      "        Return the hyperbolic cosine of x.\n",
      "    \n",
      "    degrees(x, /)\n",
      "        Convert angle x from radians to degrees.\n",
      "    \n",
      "    dist(p, q, /)\n",
      "        Return the Euclidean distance between two points p and q.\n",
      "        \n",
      "        The points should be specified as sequences (or iterables) of\n",
      "        coordinates.  Both inputs must have the same dimension.\n",
      "        \n",
      "        Roughly equivalent to:\n",
      "            sqrt(sum((px - qx) ** 2.0 for px, qx in zip(p, q)))\n",
      "    \n",
      "    erf(x, /)\n",
      "        Error function at x.\n",
      "    \n",
      "    erfc(x, /)\n",
      "        Complementary error function at x.\n",
      "    \n",
      "    exp(x, /)\n",
      "        Return e raised to the power of x.\n",
      "    \n",
      "    expm1(x, /)\n",
      "        Return exp(x)-1.\n",
      "        \n",
      "        This function avoids the loss of precision involved in the direct evaluation of exp(x)-1 for small x.\n",
      "    \n",
      "    fabs(x, /)\n",
      "        Return the absolute value of the float x.\n",
      "    \n",
      "    factorial(x, /)\n",
      "        Find x!.\n",
      "        \n",
      "        Raise a ValueError if x is negative or non-integral.\n",
      "    \n",
      "    floor(x, /)\n",
      "        Return the floor of x as an Integral.\n",
      "        \n",
      "        This is the largest integer <= x.\n",
      "    \n",
      "    fmod(x, y, /)\n",
      "        Return fmod(x, y), according to platform C.\n",
      "        \n",
      "        x % y may differ.\n",
      "    \n",
      "    frexp(x, /)\n",
      "        Return the mantissa and exponent of x, as pair (m, e).\n",
      "        \n",
      "        m is a float and e is an int, such that x = m * 2.**e.\n",
      "        If x is 0, m and e are both 0.  Else 0.5 <= abs(m) < 1.0.\n",
      "    \n",
      "    fsum(seq, /)\n",
      "        Return an accurate floating point sum of values in the iterable seq.\n",
      "        \n",
      "        Assumes IEEE-754 floating point arithmetic.\n",
      "    \n",
      "    gamma(x, /)\n",
      "        Gamma function at x.\n",
      "    \n",
      "    gcd(x, y, /)\n",
      "        greatest common divisor of x and y\n",
      "    \n",
      "    hypot(...)\n",
      "        hypot(*coordinates) -> value\n",
      "        \n",
      "        Multidimensional Euclidean distance from the origin to a point.\n",
      "        \n",
      "        Roughly equivalent to:\n",
      "            sqrt(sum(x**2 for x in coordinates))\n",
      "        \n",
      "        For a two dimensional point (x, y), gives the hypotenuse\n",
      "        using the Pythagorean theorem:  sqrt(x*x + y*y).\n",
      "        \n",
      "        For example, the hypotenuse of a 3/4/5 right triangle is:\n",
      "        \n",
      "            >>> hypot(3.0, 4.0)\n",
      "            5.0\n",
      "    \n",
      "    isclose(a, b, *, rel_tol=1e-09, abs_tol=0.0)\n",
      "        Determine whether two floating point numbers are close in value.\n",
      "        \n",
      "          rel_tol\n",
      "            maximum difference for being considered \"close\", relative to the\n",
      "            magnitude of the input values\n",
      "          abs_tol\n",
      "            maximum difference for being considered \"close\", regardless of the\n",
      "            magnitude of the input values\n",
      "        \n",
      "        Return True if a is close in value to b, and False otherwise.\n",
      "        \n",
      "        For the values to be considered close, the difference between them\n",
      "        must be smaller than at least one of the tolerances.\n",
      "        \n",
      "        -inf, inf and NaN behave similarly to the IEEE 754 Standard.  That\n",
      "        is, NaN is not close to anything, even itself.  inf and -inf are\n",
      "        only close to themselves.\n",
      "    \n",
      "    isfinite(x, /)\n",
      "        Return True if x is neither an infinity nor a NaN, and False otherwise.\n",
      "    \n",
      "    isinf(x, /)\n",
      "        Return True if x is a positive or negative infinity, and False otherwise.\n",
      "    \n",
      "    isnan(x, /)\n",
      "        Return True if x is a NaN (not a number), and False otherwise.\n",
      "    \n",
      "    isqrt(n, /)\n",
      "        Return the integer part of the square root of the input.\n",
      "    \n",
      "    ldexp(x, i, /)\n",
      "        Return x * (2**i).\n",
      "        \n",
      "        This is essentially the inverse of frexp().\n",
      "    \n",
      "    lgamma(x, /)\n",
      "        Natural logarithm of absolute value of Gamma function at x.\n",
      "    \n",
      "    log(...)\n",
      "        log(x, [base=math.e])\n",
      "        Return the logarithm of x to the given base.\n",
      "        \n",
      "        If the base not specified, returns the natural logarithm (base e) of x.\n",
      "    \n",
      "    log10(x, /)\n",
      "        Return the base 10 logarithm of x.\n",
      "    \n",
      "    log1p(x, /)\n",
      "        Return the natural logarithm of 1+x (base e).\n",
      "        \n",
      "        The result is computed in a way which is accurate for x near zero.\n",
      "    \n",
      "    log2(x, /)\n",
      "        Return the base 2 logarithm of x.\n",
      "    \n",
      "    modf(x, /)\n",
      "        Return the fractional and integer parts of x.\n",
      "        \n",
      "        Both results carry the sign of x and are floats.\n",
      "    \n",
      "    perm(n, k=None, /)\n",
      "        Number of ways to choose k items from n items without repetition and with order.\n",
      "        \n",
      "        Evaluates to n! / (n - k)! when k <= n and evaluates\n",
      "        to zero when k > n.\n",
      "        \n",
      "        If k is not specified or is None, then k defaults to n\n",
      "        and the function returns n!.\n",
      "        \n",
      "        Raises TypeError if either of the arguments are not integers.\n",
      "        Raises ValueError if either of the arguments are negative.\n",
      "    \n",
      "    pow(x, y, /)\n",
      "        Return x**y (x to the power of y).\n",
      "    \n",
      "    prod(iterable, /, *, start=1)\n",
      "        Calculate the product of all the elements in the input iterable.\n",
      "        \n",
      "        The default start value for the product is 1.\n",
      "        \n",
      "        When the iterable is empty, return the start value.  This function is\n",
      "        intended specifically for use with numeric values and may reject\n",
      "        non-numeric types.\n",
      "    \n",
      "    radians(x, /)\n",
      "        Convert angle x from degrees to radians.\n",
      "    \n",
      "    remainder(x, y, /)\n",
      "        Difference between x and the closest integer multiple of y.\n",
      "        \n",
      "        Return x - n*y where n*y is the closest integer multiple of y.\n",
      "        In the case where x is exactly halfway between two multiples of\n",
      "        y, the nearest even value of n is used. The result is always exact.\n",
      "    \n",
      "    sin(x, /)\n",
      "        Return the sine of x (measured in radians).\n",
      "    \n",
      "    sinh(x, /)\n",
      "        Return the hyperbolic sine of x.\n",
      "    \n",
      "    sqrt(x, /)\n",
      "        Return the square root of x.\n",
      "    \n",
      "    tan(x, /)\n",
      "        Return the tangent of x (measured in radians).\n",
      "    \n",
      "    tanh(x, /)\n",
      "        Return the hyperbolic tangent of x.\n",
      "    \n",
      "    trunc(x, /)\n",
      "        Truncates the Real x to the nearest Integral toward 0.\n",
      "        \n",
      "        Uses the __trunc__ magic method.\n",
      "\n",
      "DATA\n",
      "    e = 2.718281828459045\n",
      "    inf = inf\n",
      "    nan = nan\n",
      "    pi = 3.141592653589793\n",
      "    tau = 6.283185307179586\n",
      "\n",
      "FILE\n",
      "    (built-in)\n",
      "\n",
      "\n"
     ]
    }
   ],
   "source": [
    "#To get info on how to use it, we use help(math) -- no quotes\n",
    "help(math)"
   ]
  },
  {
   "cell_type": "code",
   "execution_count": 4,
   "metadata": {},
   "outputs": [
    {
     "data": {
      "text/plain": [
       "6.0"
      ]
     },
     "execution_count": 4,
     "metadata": {},
     "output_type": "execute_result"
    }
   ],
   "source": [
    "#Now we can try using some tools in the module to see if it works.  Note that you must use dot notation unless you import the function\n",
    "math.sqrt(36)"
   ]
  },
  {
   "cell_type": "code",
   "execution_count": 5,
   "metadata": {},
   "outputs": [],
   "source": [
    "# I can import functions found in the module when I looked at the help file by using from math import to minimize my typing\n",
    "from math import sqrt"
   ]
  },
  {
   "cell_type": "code",
   "execution_count": 6,
   "metadata": {},
   "outputs": [
    {
     "data": {
      "text/plain": [
       "6.0"
      ]
     },
     "execution_count": 6,
     "metadata": {},
     "output_type": "execute_result"
    }
   ],
   "source": [
    "sqrt(36)"
   ]
  },
  {
   "cell_type": "code",
   "execution_count": 7,
   "metadata": {},
   "outputs": [
    {
     "data": {
      "text/plain": [
       "module"
      ]
     },
     "execution_count": 7,
     "metadata": {},
     "output_type": "execute_result"
    }
   ],
   "source": [
    "type(math)"
   ]
  },
  {
   "cell_type": "code",
   "execution_count": 11,
   "metadata": {},
   "outputs": [
    {
     "data": {
      "text/plain": [
       "['ArithmeticError',\n",
       " 'AssertionError',\n",
       " 'AttributeError',\n",
       " 'BaseException',\n",
       " 'BlockingIOError',\n",
       " 'BrokenPipeError',\n",
       " 'BufferError',\n",
       " 'BytesWarning',\n",
       " 'ChildProcessError',\n",
       " 'ConnectionAbortedError',\n",
       " 'ConnectionError',\n",
       " 'ConnectionRefusedError',\n",
       " 'ConnectionResetError',\n",
       " 'DeprecationWarning',\n",
       " 'EOFError',\n",
       " 'Ellipsis',\n",
       " 'EnvironmentError',\n",
       " 'Exception',\n",
       " 'False',\n",
       " 'FileExistsError',\n",
       " 'FileNotFoundError',\n",
       " 'FloatingPointError',\n",
       " 'FutureWarning',\n",
       " 'GeneratorExit',\n",
       " 'IOError',\n",
       " 'ImportError',\n",
       " 'ImportWarning',\n",
       " 'IndentationError',\n",
       " 'IndexError',\n",
       " 'InterruptedError',\n",
       " 'IsADirectoryError',\n",
       " 'KeyError',\n",
       " 'KeyboardInterrupt',\n",
       " 'LookupError',\n",
       " 'MemoryError',\n",
       " 'ModuleNotFoundError',\n",
       " 'NameError',\n",
       " 'None',\n",
       " 'NotADirectoryError',\n",
       " 'NotImplemented',\n",
       " 'NotImplementedError',\n",
       " 'OSError',\n",
       " 'OverflowError',\n",
       " 'PendingDeprecationWarning',\n",
       " 'PermissionError',\n",
       " 'ProcessLookupError',\n",
       " 'RecursionError',\n",
       " 'ReferenceError',\n",
       " 'ResourceWarning',\n",
       " 'RuntimeError',\n",
       " 'RuntimeWarning',\n",
       " 'StopAsyncIteration',\n",
       " 'StopIteration',\n",
       " 'SyntaxError',\n",
       " 'SyntaxWarning',\n",
       " 'SystemError',\n",
       " 'SystemExit',\n",
       " 'TabError',\n",
       " 'TimeoutError',\n",
       " 'True',\n",
       " 'TypeError',\n",
       " 'UnboundLocalError',\n",
       " 'UnicodeDecodeError',\n",
       " 'UnicodeEncodeError',\n",
       " 'UnicodeError',\n",
       " 'UnicodeTranslateError',\n",
       " 'UnicodeWarning',\n",
       " 'UserWarning',\n",
       " 'ValueError',\n",
       " 'Warning',\n",
       " 'WindowsError',\n",
       " 'ZeroDivisionError',\n",
       " '__IPYTHON__',\n",
       " '__build_class__',\n",
       " '__debug__',\n",
       " '__doc__',\n",
       " '__import__',\n",
       " '__loader__',\n",
       " '__name__',\n",
       " '__package__',\n",
       " '__spec__',\n",
       " 'abs',\n",
       " 'all',\n",
       " 'any',\n",
       " 'ascii',\n",
       " 'bin',\n",
       " 'bool',\n",
       " 'breakpoint',\n",
       " 'bytearray',\n",
       " 'bytes',\n",
       " 'callable',\n",
       " 'chr',\n",
       " 'classmethod',\n",
       " 'compile',\n",
       " 'complex',\n",
       " 'copyright',\n",
       " 'credits',\n",
       " 'delattr',\n",
       " 'dict',\n",
       " 'dir',\n",
       " 'display',\n",
       " 'divmod',\n",
       " 'enumerate',\n",
       " 'eval',\n",
       " 'exec',\n",
       " 'filter',\n",
       " 'float',\n",
       " 'format',\n",
       " 'frozenset',\n",
       " 'get_ipython',\n",
       " 'getattr',\n",
       " 'globals',\n",
       " 'hasattr',\n",
       " 'hash',\n",
       " 'help',\n",
       " 'hex',\n",
       " 'id',\n",
       " 'input',\n",
       " 'int',\n",
       " 'isinstance',\n",
       " 'issubclass',\n",
       " 'iter',\n",
       " 'len',\n",
       " 'license',\n",
       " 'list',\n",
       " 'locals',\n",
       " 'map',\n",
       " 'max',\n",
       " 'memoryview',\n",
       " 'min',\n",
       " 'next',\n",
       " 'object',\n",
       " 'oct',\n",
       " 'open',\n",
       " 'ord',\n",
       " 'pow',\n",
       " 'print',\n",
       " 'property',\n",
       " 'range',\n",
       " 'repr',\n",
       " 'reversed',\n",
       " 'round',\n",
       " 'set',\n",
       " 'setattr',\n",
       " 'slice',\n",
       " 'sorted',\n",
       " 'staticmethod',\n",
       " 'str',\n",
       " 'sum',\n",
       " 'super',\n",
       " 'tuple',\n",
       " 'type',\n",
       " 'vars',\n",
       " 'zip']"
      ]
     },
     "execution_count": 11,
     "metadata": {},
     "output_type": "execute_result"
    }
   ],
   "source": [
    "# to see what is built in to python, pass __builtins__ through dir\n",
    "dir(__builtins__)"
   ]
  },
  {
   "cell_type": "code",
   "execution_count": 16,
   "metadata": {},
   "outputs": [
    {
     "name": "stdout",
     "output_type": "stream",
     "text": [
      "\n",
      "Please wait a moment while I gather a list of all available modules...\n",
      "\n"
     ]
    },
    {
     "name": "stderr",
     "output_type": "stream",
     "text": [
      "C:\\Users\\fitmi\\AppData\\Local\\Programs\\Python\\Python38-32\\lib\\site-packages\\IPython\\kernel\\__init__.py:12: ShimWarning: The `IPython.kernel` package has been deprecated since IPython 4.0.You should import from ipykernel or jupyter_client instead.\n",
      "  warn(\"The `IPython.kernel` package has been deprecated since IPython 4.0.\"\n",
      "C:\\Users\\fitmi\\AppData\\Local\\Programs\\Python\\Python38-32\\lib\\site-packages\\nltk\\twitter\\__init__.py:21: UserWarning: The twython library has not been installed. Some functionality from the twitter package will not be available.\n",
      "  warnings.warn(\n",
      "C:\\Users\\fitmi\\AppData\\Local\\Programs\\Python\\Python38-32\\lib\\site-packages\\pandas_datareader\\compat\\__init__.py:7: FutureWarning: pandas.util.testing is deprecated. Use the functions in the public API at pandas.testing instead.\n",
      "  from pandas.util.testing import assert_frame_equal\n",
      "C:\\Users\\fitmi\\AppData\\Local\\Programs\\Python\\Python38-32\\lib\\site-packages\\sklearn\\externals\\joblib\\__init__.py:15: FutureWarning: sklearn.externals.joblib is deprecated in 0.21 and will be removed in 0.23. Please import this functionality directly from joblib, which can be installed with: pip install joblib. If this warning is raised when loading pickled models, you may need to re-serialize those models with scikit-learn 0.21+.\n",
      "  warnings.warn(msg, category=FutureWarning)\n",
      "C:\\Users\\fitmi\\AppData\\Local\\Programs\\Python\\Python38-32\\lib\\pkgutil.py:107: VisibleDeprecationWarning: zmq.eventloop.minitornado is deprecated in pyzmq 14.0 and will be removed.\n",
      "    Install tornado itself to use zmq with the tornado IOLoop.\n",
      "    \n",
      "  yield from walk_packages(path, info.name+'.', onerror)\n"
     ]
    },
    {
     "name": "stdout",
     "output_type": "stream",
     "text": [
      "IPython             brain_nose          kiwisolver          ssl\n",
      "MyMainPackage       brain_numpy_core_fromnumeric lazy_object_proxy   sspi\n",
      "PyPDF2              brain_numpy_core_function_base lib2to3             sspicon\n",
      "__future__          brain_numpy_core_multiarray linecache           stat\n",
      "_abc                brain_numpy_core_numeric locale              statistics\n",
      "_ast                brain_numpy_core_numerictypes logging             statsmodels\n",
      "_asyncio            brain_numpy_core_umath lxml                storemagic\n",
      "_bisect             brain_numpy_ndarray lzma                string\n",
      "_blake2             brain_numpy_random_mtrand mailbox             stringprep\n",
      "_bootlocale         brain_numpy_utils   mailcap             struct\n",
      "_bz2                brain_pkg_resources markupsafe          subprocess\n",
      "_codecs             brain_pytest        marshal             sunau\n",
      "_codecs_cn          brain_qt            math                symbol\n",
      "_codecs_hk          brain_random        matplotlib          sympyprinting\n",
      "_codecs_iso2022     brain_re            mccabe              symtable\n",
      "_codecs_jp          brain_six           mimetypes           sys\n",
      "_codecs_kr          brain_ssl           mistune             sysconfig\n",
      "_codecs_tw          brain_subprocess    mmap                tabnanny\n",
      "_collections        brain_threading     mmapfile            tarfile\n",
      "_collections_abc    brain_typing        mmsystem            telnetlib\n",
      "_compat_pickle      brain_uuid          modulefinder        tempfile\n",
      "_compression        bs4                 msilib              terminado\n",
      "_contextvars        builtins            msvcrt              test\n",
      "_csv                bz2                 multiprocessing     testpath\n",
      "_ctypes             cProfile            my_puck_inventory   tests\n",
      "_ctypes_test        calendar            mymodule            textwrap\n",
      "_datetime           certifi             myprogram           this\n",
      "_decimal            cgi                 nbconvert           threading\n",
      "_dummy_thread       cgitb               nbformat            time\n",
      "_elementtree        chardet             netbios             timeit\n",
      "_functools          chunk               netrc               timer\n",
      "_hashlib            click               nltk                tkinter\n",
      "_heapq              cmath               nntplib             token\n",
      "_imp                cmd                 notebook            tokenize\n",
      "_io                 code                nt                  tornado\n",
      "_json               codecs              ntpath              tqdm\n",
      "_locale             codeop              ntsecuritycon       trace\n",
      "_lsprof             collections         nturl2path          traceback\n",
      "_lzma               colorama            numbers             tracemalloc\n",
      "_markupbase         colorsys            numpy               traitlets\n",
      "_md5                commctrl            odbc                tty\n",
      "_msi                compileall          opcode              turtle\n",
      "_multibytecodec     concurrent          openpyxl            turtledemo\n",
      "_multiprocessing    configparser        operator            types\n",
      "_opcode             contextlib          optparse            typing\n",
      "_operator           contextvars         os                  unicodedata\n",
      "_osx_support        copy                pandas              unittest\n",
      "_overlapped         copyreg             pandas_datareader   urllib\n",
      "_pickle             crypt               pandocfilters       urllib3\n",
      "_py_abc             csv                 parser              uu\n",
      "_pydecimal          ctypes              parso               uuid\n",
      "_pyio               curses              pathlib             venv\n",
      "_pyrsistent_version cycler              patsy               virtualenv\n",
      "_queue              cythonmagic         pdb                 warnings\n",
      "_random             dataclasses         perfmon             wave\n",
      "_sha1               datetime            pickle              wcwidth\n",
      "_sha256             dateutil            pickleshare         weakref\n",
      "_sha3               dbi                 pickletools         webbrowser\n",
      "_sha512             dbm                 pip                 webencodings\n",
      "_signal             dde                 pipes               werkzeug\n",
      "_sitebuiltins       decimal             pkg_resources       wheel\n",
      "_socket             decorator           pkgutil             widgetsnbextension\n",
      "_sqlite3            defusedxml          platform            win2kras\n",
      "_sre                difflib             plistlib            win32api\n",
      "_ssl                dis                 poplib              win32clipboard\n",
      "_stat               distlib             posixpath           win32com\n",
      "_statistics         distutils           pprint              win32con\n",
      "_string             doctest             profile             win32console\n",
      "_strptime           dummy_threading     prometheus_client   win32cred\n",
      "_struct             easy_install        prompt_toolkit      win32crypt\n",
      "_symtable           email               pstats              win32cryptcon\n",
      "_testbuffer         encodings           pty                 win32event\n",
      "_testcapi           ensurepip           py_compile          win32evtlog\n",
      "_testconsole        entrypoints         pyclbr              win32evtlogutil\n",
      "_testimportmultiple enum                pydoc               win32file\n",
      "_testmultiphase     errno               pydoc_data          win32gui\n",
      "_thread             et_xmlfile          pyexpat             win32gui_struct\n",
      "_threading_local    faulthandler        pygments            win32help\n",
      "_tkinter            filecmp             pylab               win32inet\n",
      "_tracemalloc        fileinput           pylint              win32inetcon\n",
      "_warnings           filelock            pyparsing           win32job\n",
      "_weakref            first_project       pyrsistent          win32lz\n",
      "_weakrefset         flask               pythoncom           win32net\n",
      "_win32sysloader     flask_sqlalchemy    pytz                win32netcon\n",
      "_winapi             fnmatch             pywin               win32pdh\n",
      "_winxptheme         formatter           pywin32_bootstrap   win32pdhquery\n",
      "_xxsubinterpreters  fractions           pywin32_testutil    win32pdhutil\n",
      "abc                 ftplib              pywintypes          win32pipe\n",
      "adodbapi            functools           queue               win32print\n",
      "afxres              gc                  quopri              win32process\n",
      "aifc                genericpath         random              win32profile\n",
      "antigravity         getopt              rasutil             win32ras\n",
      "appdirs             getpass             re                  win32rcparser\n",
      "argparse            gettext             regcheck            win32security\n",
      "array               glob                regex               win32service\n",
      "ast                 gzip                regutil             win32serviceutil\n",
      "astroid             hashlib             reprlib             win32timezone\n",
      "asynchat            heapq               requests            win32trace\n",
      "asyncio             hmac                rlcompleter         win32traceutil\n",
      "asyncore            html                rmagic              win32transaction\n",
      "atexit              html5lib            runpy               win32ts\n",
      "attr                http                sched               win32ui\n",
      "audioop             idlelib             scipy               win32uiole\n",
      "autoreload          idna                seaborn             win32verstamp\n",
      "backcall            imaplib             secrets             win32wnet\n",
      "base64              imghdr              select              winerror\n",
      "bdb                 imp                 selectors           winioctlcon\n",
      "binascii            importlib           send2trash          winnt\n",
      "binhex              inspect             servicemanager      winperf\n",
      "bisect              io                  setuptools          winpty\n",
      "blackjack_proj2     ipaddress           shelve              winreg\n",
      "bleach              ipykernel           shlex               winsound\n",
      "brain_argparse      ipykernel_launcher  shutil              winxpgui\n",
      "brain_attrs         ipython_genutils    signal              winxptheme\n",
      "brain_builtin_inference ipywidgets          simple1             wrapt\n",
      "brain_collections   isapi               site                wsgiref\n",
      "brain_crypt         isort               six                 xdrlib\n",
      "brain_curses        itertools           sklearn             xlrd\n",
      "brain_dataclasses   itsdangerous        smtpd               xml\n",
      "brain_dateutil      jdcal               smtplib             xmlrpc\n",
      "brain_fstrings      jedi                sndhdr              xxsubtype\n",
      "brain_functools     jinja2              socket              zipapp\n",
      "brain_gi            joblib              socketserver        zipfile\n",
      "brain_hashlib       json                soupsieve           zipimport\n",
      "brain_http          jsonschema          sqlalchemy          zlib\n",
      "brain_io            jupyter             sqlite3             zmq\n",
      "brain_mechanize     jupyter_client      sre_compile         \n",
      "brain_multiprocessing jupyter_core        sre_constants       \n",
      "brain_namedtuple_enum keyword             sre_parse           \n",
      "\n",
      "Enter any module name to get more help.  Or, type \"modules spam\" to search\n",
      "for modules whose name or summary contain the string \"spam\".\n",
      "\n"
     ]
    }
   ],
   "source": [
    "help('modules')"
   ]
  },
  {
   "cell_type": "code",
   "execution_count": 24,
   "metadata": {},
   "outputs": [
    {
     "data": {
      "text/plain": [
       "['In',\n",
       " 'Out',\n",
       " '_',\n",
       " '_11',\n",
       " '_13',\n",
       " '_14',\n",
       " '_17',\n",
       " '_18',\n",
       " '_4',\n",
       " '_6',\n",
       " '_7',\n",
       " '_8',\n",
       " '__',\n",
       " '___',\n",
       " '__builtin__',\n",
       " '__builtins__',\n",
       " '__doc__',\n",
       " '__loader__',\n",
       " '__name__',\n",
       " '__package__',\n",
       " '__spec__',\n",
       " '_dh',\n",
       " '_i',\n",
       " '_i1',\n",
       " '_i10',\n",
       " '_i11',\n",
       " '_i12',\n",
       " '_i13',\n",
       " '_i14',\n",
       " '_i15',\n",
       " '_i16',\n",
       " '_i17',\n",
       " '_i18',\n",
       " '_i19',\n",
       " '_i2',\n",
       " '_i20',\n",
       " '_i21',\n",
       " '_i22',\n",
       " '_i23',\n",
       " '_i24',\n",
       " '_i3',\n",
       " '_i4',\n",
       " '_i5',\n",
       " '_i6',\n",
       " '_i7',\n",
       " '_i8',\n",
       " '_i9',\n",
       " '_ih',\n",
       " '_ii',\n",
       " '_iii',\n",
       " '_oh',\n",
       " 'exit',\n",
       " 'get_ipython',\n",
       " 'math',\n",
       " 'quit',\n",
       " 'sqrt']"
      ]
     },
     "execution_count": 24,
     "metadata": {},
     "output_type": "execute_result"
    }
   ],
   "source": [
    "#Any module imported will show up when we use the dir function\n",
    "dir()"
   ]
  },
  {
   "cell_type": "code",
   "execution_count": 25,
   "metadata": {},
   "outputs": [
    {
     "name": "stdout",
     "output_type": "stream",
     "text": [
      "Help on built-in function sqrt in module math:\n",
      "\n",
      "sqrt(x, /)\n",
      "    Return the square root of x.\n",
      "\n"
     ]
    }
   ],
   "source": [
    "#Note that the sqrt we imported from math is now listed as well.  We can pull more info on sqrt by using help on it\n",
    "# but we must use dot notiation to signify that sqrt lives in math\n",
    "help(math.sqrt)"
   ]
  },
  {
   "cell_type": "code",
   "execution_count": 2,
   "metadata": {},
   "outputs": [
    {
     "name": "stdout",
     "output_type": "stream",
     "text": [
      "This to the power of 10\n"
     ]
    }
   ],
   "source": [
    "#assigning and using variables is easy\n",
    "good = 10\n",
    "print('This to the power of',good)#note the comma to separate the variable"
   ]
  },
  {
   "cell_type": "code",
   "execution_count": 3,
   "metadata": {},
   "outputs": [],
   "source": [
    "#lists are created with brackets\n",
    "cities = ['NYC', 'GA', 'FL']"
   ]
  },
  {
   "cell_type": "code",
   "execution_count": 4,
   "metadata": {},
   "outputs": [
    {
     "data": {
      "text/plain": [
       "['NYC', 'GA', 'FL']"
      ]
     },
     "execution_count": 4,
     "metadata": {},
     "output_type": "execute_result"
    }
   ],
   "source": [
    "cities#the variable will return the list you created"
   ]
  },
  {
   "cell_type": "code",
   "execution_count": 18,
   "metadata": {},
   "outputs": [
    {
     "data": {
      "text/plain": [
       "'GA'"
      ]
     },
     "execution_count": 18,
     "metadata": {},
     "output_type": "execute_result"
    }
   ],
   "source": [
    "#you can dice and slice lists using indexing\n",
    "cities[1]\n"
   ]
  },
  {
   "cell_type": "code",
   "execution_count": 29,
   "metadata": {},
   "outputs": [
    {
     "data": {
      "text/plain": [
       "['FL', 'GA', 'NYC']"
      ]
     },
     "execution_count": 29,
     "metadata": {},
     "output_type": "execute_result"
    }
   ],
   "source": [
    "cities[::-1]#::-1 reverses the order via indexing of the list, but you can also you the reverse function"
   ]
  },
  {
   "cell_type": "code",
   "execution_count": 41,
   "metadata": {},
   "outputs": [
    {
     "data": {
      "text/plain": [
       "['FL', 'GA', 'NYC']"
      ]
     },
     "execution_count": 41,
     "metadata": {},
     "output_type": "execute_result"
    }
   ],
   "source": [
    "cities.reverse()#The reverse method seems to automatically be 'in place' or permanent instead of requiring a variable be placed\n",
    "cities"
   ]
  },
  {
   "cell_type": "code",
   "execution_count": 42,
   "metadata": {},
   "outputs": [
    {
     "data": {
      "text/plain": [
       "['FL', 'GA', 'NYC', 'AL']"
      ]
     },
     "execution_count": 42,
     "metadata": {},
     "output_type": "execute_result"
    }
   ],
   "source": [
    "cities.append('AL')#we can append\n",
    "cities"
   ]
  },
  {
   "cell_type": "code",
   "execution_count": 52,
   "metadata": {},
   "outputs": [],
   "source": [
    "number = range(0,10,2)"
   ]
  },
  {
   "cell_type": "code",
   "execution_count": 54,
   "metadata": {},
   "outputs": [
    {
     "name": "stdout",
     "output_type": "stream",
     "text": [
      "range(0, 10, 2)\n"
     ]
    }
   ],
   "source": [
    "\n",
    "print(number)#instead of my notebook showing me the numbers, it just shows the same range unless I do a loop to iterate"
   ]
  },
  {
   "cell_type": "code",
   "execution_count": 55,
   "metadata": {},
   "outputs": [
    {
     "name": "stdout",
     "output_type": "stream",
     "text": [
      "FL\n",
      "GA\n",
      "NYC\n",
      "AL\n"
     ]
    }
   ],
   "source": [
    "for city in cities:\n",
    "    print(city)"
   ]
  },
  {
   "cell_type": "code",
   "execution_count": 59,
   "metadata": {},
   "outputs": [
    {
     "name": "stdout",
     "output_type": "stream",
     "text": [
      "The inverse of 1 is 1.0\n",
      "The inverse of 2 is 0.5\n",
      "The inverse of 3 is 0.3333333333333333\n",
      "The inverse of 4 is 0.25\n",
      "The inverse of 5 is 0.2\n",
      "The inverse of 6 is 0.16666666666666666\n",
      "The inverse of 7 is 0.14285714285714285\n",
      "The inverse of 8 is 0.125\n",
      "The inverse of 9 is 0.1111111111111111\n"
     ]
    }
   ],
   "source": [
    "for n in range(1,10):\n",
    "    print('The inverse of', n, 'is', 1.0/n)#printing always requires parenthesese for the entire item to be printed, quotes for \n",
    "    #string elements, and commas before and after each variable."
   ]
  },
  {
   "cell_type": "code",
   "execution_count": 60,
   "metadata": {},
   "outputs": [
    {
     "name": "stdout",
     "output_type": "stream",
     "text": [
      "H\n",
      "e\n",
      "l\n",
      "l\n",
      "o\n"
     ]
    }
   ],
   "source": [
    "for letter in \"Hello\":\n",
    "    print(letter)"
   ]
  },
  {
   "cell_type": "code",
   "execution_count": 61,
   "metadata": {},
   "outputs": [
    {
     "data": {
      "text/plain": [
       "'FL'"
      ]
     },
     "execution_count": 61,
     "metadata": {},
     "output_type": "execute_result"
    }
   ],
   "source": [
    "cities[0]"
   ]
  },
  {
   "cell_type": "code",
   "execution_count": 62,
   "metadata": {},
   "outputs": [],
   "source": [
    "#note that you can highlight and tab entire sections over in jupyter notebooks"
   ]
  },
  {
   "cell_type": "code",
   "execution_count": 63,
   "metadata": {},
   "outputs": [
    {
     "name": "stdout",
     "output_type": "stream",
     "text": [
      "(1, 3, 5)\n"
     ]
    }
   ],
   "source": [
    "#lists use brackets and they are mutable\n",
    "#tuples are immutable and use parentheses\n",
    "t=(1,3,5)\n",
    "print(t)"
   ]
  },
  {
   "cell_type": "code",
   "execution_count": 64,
   "metadata": {},
   "outputs": [
    {
     "data": {
      "text/plain": [
       "{'Joe': 22, 'MIke': 12}"
      ]
     },
     "execution_count": 64,
     "metadata": {},
     "output_type": "execute_result"
    }
   ],
   "source": [
    "my_dict = {'Joe':22, 'MIke':12}\n",
    "my_dict"
   ]
  },
  {
   "cell_type": "code",
   "execution_count": 68,
   "metadata": {},
   "outputs": [
    {
     "data": {
      "text/plain": [
       "dict_items([('Joe', 22), ('MIke', 12)])"
      ]
     },
     "execution_count": 68,
     "metadata": {},
     "output_type": "execute_result"
    }
   ],
   "source": [
    "my_dict.items()"
   ]
  },
  {
   "cell_type": "code",
   "execution_count": null,
   "metadata": {},
   "outputs": [],
   "source": []
  }
 ],
 "metadata": {
  "kernelspec": {
   "display_name": "Python 3",
   "language": "python",
   "name": "python3"
  },
  "language_info": {
   "codemirror_mode": {
    "name": "ipython",
    "version": 3
   },
   "file_extension": ".py",
   "mimetype": "text/x-python",
   "name": "python",
   "nbconvert_exporter": "python",
   "pygments_lexer": "ipython3",
   "version": "3.8.1"
  }
 },
 "nbformat": 4,
 "nbformat_minor": 2
}
