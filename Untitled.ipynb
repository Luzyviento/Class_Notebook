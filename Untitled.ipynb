{
 "cells": [
  {
   "cell_type": "markdown",
   "metadata": {},
   "source": [
    "For my final project, the following look intersting to me:\n",
    "\n",
    "caesar cipher  -    -    -    -   -  possible easy one\n",
    "\n",
    "budget tracker -    -    -    -   -  possible easy one\n",
    "\n",
    "Sort Excel CSV Utility -     -    -- one for work\n",
    "\n",
    "Page Scraper - - - - - - - - - - - - Maria could use\n",
    "\n",
    "Family tree creator -              - possible easy one\n",
    "\n",
    "Product Inventory Project -      -   one for work\n",
    "\n",
    "Site Checker with Time Scheduling -  Maria could use\n",
    "\n",
    "whois search tool\n",
    "\n",
    "quote tracker\n",
    "\n",
    "Sorting\n",
    "Coin flip simulation\n",
    "\n",
    "change return program -          - - possible easy one\n",
    "\n",
    "Cost of tile to cover floor -    -   possible easy one"
   ]
  },
  {
   "cell_type": "markdown",
   "metadata": {},
   "source": [
    "For the easy one, I'm thinking caesar, budget, or tile.\n",
    "For the hard one, I'm thinking site checker, product inventory, or sort excel.\n",
    "\n",
    "The scary part is that I'm not even sure of how hard any of these are.  The ones I've seen already give me an idea of what they are, but if I go on to something novel, I run the risk of biting off too much.  Just like in climbing, it is hard to tell what is difficult without some sort of rating for newbies.  I could just focus on the ones I can work on at work.  If they are for work, they are a project and I can get paid to learn to code.  That would be ideal.  If it is going to take me a week, it better if it is something I can do at work.  Anything I learn can still be used for other projects."
   ]
  },
  {
   "cell_type": "code",
   "execution_count": 2,
   "metadata": {},
   "outputs": [],
   "source": [
    "def tile_cover_room(W,L,C):\n",
    "    \"\"\" This function returns the cost to tile an area in dollars.\n",
    "    It takes three arguments: width of the room, length of the room, cost per tile\"\"\"\n",
    "    pass"
   ]
  },
  {
   "cell_type": "markdown",
   "metadata": {},
   "source": [
    "Find Cost of Tile to Cover W x H Floor - Calculate the total cost of tile it would take to cover a floor plan of width and height, using a cost entered by the user\n",
    "\n"
   ]
  },
  {
   "cell_type": "markdown",
   "metadata": {},
   "source": [
    "This project will require a few functions:\n",
    "One to create a cost per tile of whatever the customer is using.\n",
    "One to collect the square footage of the floor plan via input into room / hall classes.\n",
    "One to calculate the actual number of tiles and cost per tile."
   ]
  },
  {
   "cell_type": "markdown",
   "metadata": {},
   "source": [
    "This will be my one day project ... I think."
   ]
  },
  {
   "cell_type": "markdown",
   "metadata": {},
   "source": [
    "For my hard one, I think I'll go for the product inventory one.  I've been saying I would do that for ages.  It would make me look good and keep my work going a little longer while increasing my skillset at work for work."
   ]
  },
  {
   "cell_type": "markdown",
   "metadata": {},
   "source": [
    "Product Inventory Project - Create an application which manages an inventory of products. Create a product class which has a price, id, and quantity on hand. Then create an inventory class which keeps track of various products and can sum up the inventory value."
   ]
  },
  {
   "cell_type": "markdown",
   "metadata": {},
   "source": [
    "Instead of doing one that does this exactly, I think I will see what the scanners pick up first.  If I can tie the barcode to an input on my program for incoming and outgoing, I can keep track of all pucks on hand without manually counting.  Then with the prices of the pucks, I can report amount of shades, types, and value of the stock.  This would be more useful.  Then it might be possible to make it show what needs to be ordered after transaction that takes it below minimun level on a product."
   ]
  },
  {
   "cell_type": "code",
   "execution_count": null,
   "metadata": {},
   "outputs": [],
   "source": []
  }
 ],
 "metadata": {
  "kernelspec": {
   "display_name": "Python 3",
   "language": "python",
   "name": "python3"
  },
  "language_info": {
   "codemirror_mode": {
    "name": "ipython",
    "version": 3
   },
   "file_extension": ".py",
   "mimetype": "text/x-python",
   "name": "python",
   "nbconvert_exporter": "python",
   "pygments_lexer": "ipython3",
   "version": "3.7.4"
  }
 },
 "nbformat": 4,
 "nbformat_minor": 2
}
