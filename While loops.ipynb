{
 "cells": [
  {
   "cell_type": "markdown",
   "metadata": {},
   "source": [
    "Beware of the while loop infinity loop.  You loop until false instead of running over a finite sequence.  This must be why they have such a bad name in dev circles.  "
   ]
  },
  {
   "cell_type": "code",
   "execution_count": 4,
   "metadata": {},
   "outputs": [
    {
     "name": "stdout",
     "output_type": "stream",
     "text": [
      "0  is what x currently is \n",
      "1  is what x currently is \n",
      "2  is what x currently is \n",
      "3  is what x currently is \n",
      "4  is what x currently is \n",
      "5  is what x currently is \n",
      "6  is what x currently is \n",
      "7  is what x currently is \n",
      "8  is what x currently is \n",
      "9  is what x currently is \n"
     ]
    }
   ],
   "source": [
    "x = 0\n",
    "while x < 10:\n",
    "    print(x,' is what x currently is ')\n",
    "    x += 1"
   ]
  },
  {
   "cell_type": "markdown",
   "metadata": {},
   "source": [
    "In going over this material again, I've run into the same instance of needing to print numbers and strings in the same print statement.  It seems as if I only need place a comma between the variable representing a number and the quotes of the rest of the string to make it work correctly.  This is an awesome discovery and I hope for more during this rehash of completed work."
   ]
  },
  {
   "cell_type": "markdown",
   "metadata": {},
   "source": [
    "More can be added by ending with an \"else\" statement.  \"break' can be used to get out of the loop as can \"continue\".  \"pass\" is used as a placeholder that prevents the code from erroring out."
   ]
  },
  {
   "cell_type": "markdown",
   "metadata": {},
   "source": [
    "The last notable item here is the x += 1.  I first noticed this phrase long ago in some C code.  I didn't know C, but I understood it meant x = x + 1 was iterative.  I still struggle wit iterative and recursive meanings."
   ]
  },
  {
   "cell_type": "code",
   "execution_count": null,
   "metadata": {},
   "outputs": [],
   "source": []
  }
 ],
 "metadata": {
  "kernelspec": {
   "display_name": "Python 3",
   "language": "python",
   "name": "python3"
  },
  "language_info": {
   "codemirror_mode": {
    "name": "ipython",
    "version": 3
   },
   "file_extension": ".py",
   "mimetype": "text/x-python",
   "name": "python",
   "nbconvert_exporter": "python",
   "pygments_lexer": "ipython3",
   "version": "3.7.4"
  }
 },
 "nbformat": 4,
 "nbformat_minor": 2
}
