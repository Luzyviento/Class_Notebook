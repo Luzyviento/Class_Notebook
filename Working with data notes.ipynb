{
 "cells": [
  {
   "cell_type": "code",
   "execution_count": 1,
   "metadata": {},
   "outputs": [],
   "source": [
    "import numpy as np\n",
    "import pandas as pd\n",
    "from pandas import Series, DataFrame"
   ]
  },
  {
   "cell_type": "markdown",
   "metadata": {},
   "source": [
    "After importing the generic numpy, pandas, Series,DataFrame from pandas\n",
    "You are able to .read csv files into a table in jupyter.  Then all previously learned manipulation becomes possible.\n",
    "Note that the first row is taken as the header very much like many spreadsheet programs."
   ]
  },
  {
   "cell_type": "code",
   "execution_count": 12,
   "metadata": {},
   "outputs": [
    {
     "data": {
      "text/html": [
       "<div>\n",
       "<style scoped>\n",
       "    .dataframe tbody tr th:only-of-type {\n",
       "        vertical-align: middle;\n",
       "    }\n",
       "\n",
       "    .dataframe tbody tr th {\n",
       "        vertical-align: top;\n",
       "    }\n",
       "\n",
       "    .dataframe thead th {\n",
       "        text-align: right;\n",
       "    }\n",
       "</style>\n",
       "<table border=\"1\" class=\"dataframe\">\n",
       "  <thead>\n",
       "    <tr style=\"text-align: right;\">\n",
       "      <th></th>\n",
       "      <th>Timestamp</th>\n",
       "      <th>CAM OPERATOR BADGE#</th>\n",
       "      <th>SCAN CASE NUMBER</th>\n",
       "      <th>DEFECT CATEGORY</th>\n",
       "      <th>DEFECT DESCRIPTION</th>\n",
       "      <th>LOCATION WHEN DAMAGED WAS NOTICED</th>\n",
       "    </tr>\n",
       "  </thead>\n",
       "  <tbody>\n",
       "    <tr>\n",
       "      <th>0</th>\n",
       "      <td>3/2/2020 6:52:14</td>\n",
       "      <td>TSCHAFFER</td>\n",
       "      <td>SARA101520007444</td>\n",
       "      <td>LOST / MISSING</td>\n",
       "      <td>MISSING DURING MATCHING</td>\n",
       "      <td>IN CAM</td>\n",
       "    </tr>\n",
       "    <tr>\n",
       "      <th>1</th>\n",
       "      <td>3/2/2020 10:00:53</td>\n",
       "      <td>ABEVELL</td>\n",
       "      <td>ROLO101520006852</td>\n",
       "      <td>BROKEN / CHIPPED / CRACKED</td>\n",
       "      <td>CRACKED</td>\n",
       "      <td>POST CAM</td>\n",
       "    </tr>\n",
       "    <tr>\n",
       "      <th>2</th>\n",
       "      <td>3/2/2020 10:39:19</td>\n",
       "      <td>ABEVELL</td>\n",
       "      <td>ROLO101520007525</td>\n",
       "      <td>BROKEN / CHIPPED / CRACKED</td>\n",
       "      <td>BROKEN</td>\n",
       "      <td>POST CAM</td>\n",
       "    </tr>\n",
       "    <tr>\n",
       "      <th>3</th>\n",
       "      <td>3/2/2020 11:08:36</td>\n",
       "      <td>ABEVELL</td>\n",
       "      <td>ROLO101520007525</td>\n",
       "      <td>BROKEN / CHIPPED / CRACKED</td>\n",
       "      <td>BROKEN</td>\n",
       "      <td>POST CAM</td>\n",
       "    </tr>\n",
       "    <tr>\n",
       "      <th>4</th>\n",
       "      <td>3/2/2020 11:51:18</td>\n",
       "      <td>ABEVELL</td>\n",
       "      <td>ROLO101520007847</td>\n",
       "      <td>MILLING / NESTING ERROR</td>\n",
       "      <td>CHIPPED IN MILL</td>\n",
       "      <td>IN CAM</td>\n",
       "    </tr>\n",
       "    <tr>\n",
       "      <th>...</th>\n",
       "      <td>...</td>\n",
       "      <td>...</td>\n",
       "      <td>...</td>\n",
       "      <td>...</td>\n",
       "      <td>...</td>\n",
       "      <td>...</td>\n",
       "    </tr>\n",
       "    <tr>\n",
       "      <th>295</th>\n",
       "      <td>3/27/2020 8:47:29</td>\n",
       "      <td>TSCHAFFER</td>\n",
       "      <td>ROLO101520010886</td>\n",
       "      <td>SHADE / MATERIAL INCORRECT or CHANGED</td>\n",
       "      <td>TOO OPAQUE</td>\n",
       "      <td>POST CAM</td>\n",
       "    </tr>\n",
       "    <tr>\n",
       "      <th>296</th>\n",
       "      <td>3/28/2020 9:00:17</td>\n",
       "      <td>jsmolen</td>\n",
       "      <td>ROLO101520009404</td>\n",
       "      <td>FIT -- tight, loose, rocks, etc., etc., ...</td>\n",
       "      <td>pooor fit</td>\n",
       "      <td>POST CAM</td>\n",
       "    </tr>\n",
       "    <tr>\n",
       "      <th>297</th>\n",
       "      <td>3/28/2020 9:14:56</td>\n",
       "      <td>jsmolen</td>\n",
       "      <td>ROLO101520010886</td>\n",
       "      <td>OTHER</td>\n",
       "      <td>opaque</td>\n",
       "      <td>POST CAM</td>\n",
       "    </tr>\n",
       "    <tr>\n",
       "      <th>298</th>\n",
       "      <td>3/28/2020 9:50:45</td>\n",
       "      <td>jsmolen</td>\n",
       "      <td>SARA101520010971</td>\n",
       "      <td>OTHER</td>\n",
       "      <td>opaque</td>\n",
       "      <td>POST CAM</td>\n",
       "    </tr>\n",
       "    <tr>\n",
       "      <th>299</th>\n",
       "      <td>3/28/2020 10:53:52</td>\n",
       "      <td>jsmolen</td>\n",
       "      <td>SARA101520010971</td>\n",
       "      <td>BROKEN / CHIPPED / CRACKED</td>\n",
       "      <td>puck broke in mill</td>\n",
       "      <td>IN CAM</td>\n",
       "    </tr>\n",
       "  </tbody>\n",
       "</table>\n",
       "<p>300 rows × 6 columns</p>\n",
       "</div>"
      ],
      "text/plain": [
       "              Timestamp CAM OPERATOR BADGE#  SCAN CASE NUMBER  \\\n",
       "0      3/2/2020 6:52:14           TSCHAFFER  SARA101520007444   \n",
       "1     3/2/2020 10:00:53             ABEVELL  ROLO101520006852   \n",
       "2     3/2/2020 10:39:19             ABEVELL  ROLO101520007525   \n",
       "3     3/2/2020 11:08:36             ABEVELL  ROLO101520007525   \n",
       "4     3/2/2020 11:51:18             ABEVELL  ROLO101520007847   \n",
       "..                  ...                 ...               ...   \n",
       "295   3/27/2020 8:47:29           TSCHAFFER  ROLO101520010886   \n",
       "296   3/28/2020 9:00:17             jsmolen  ROLO101520009404   \n",
       "297   3/28/2020 9:14:56             jsmolen  ROLO101520010886   \n",
       "298   3/28/2020 9:50:45             jsmolen  SARA101520010971   \n",
       "299  3/28/2020 10:53:52             jsmolen  SARA101520010971   \n",
       "\n",
       "                                 DEFECT CATEGORY       DEFECT DESCRIPTION  \\\n",
       "0                                 LOST / MISSING  MISSING DURING MATCHING   \n",
       "1                     BROKEN / CHIPPED / CRACKED                  CRACKED   \n",
       "2                     BROKEN / CHIPPED / CRACKED                   BROKEN   \n",
       "3                     BROKEN / CHIPPED / CRACKED                   BROKEN   \n",
       "4                        MILLING / NESTING ERROR          CHIPPED IN MILL   \n",
       "..                                           ...                      ...   \n",
       "295        SHADE / MATERIAL INCORRECT or CHANGED               TOO OPAQUE   \n",
       "296  FIT -- tight, loose, rocks, etc., etc., ...                pooor fit   \n",
       "297                                        OTHER                   opaque   \n",
       "298                                        OTHER                   opaque   \n",
       "299                   BROKEN / CHIPPED / CRACKED       puck broke in mill   \n",
       "\n",
       "    LOCATION WHEN DAMAGED WAS NOTICED  \n",
       "0                              IN CAM  \n",
       "1                            POST CAM  \n",
       "2                            POST CAM  \n",
       "3                            POST CAM  \n",
       "4                              IN CAM  \n",
       "..                                ...  \n",
       "295                          POST CAM  \n",
       "296                          POST CAM  \n",
       "297                          POST CAM  \n",
       "298                          POST CAM  \n",
       "299                            IN CAM  \n",
       "\n",
       "[300 rows x 6 columns]"
      ]
     },
     "execution_count": 12,
     "metadata": {},
     "output_type": "execute_result"
    }
   ],
   "source": [
    "dframe = pd.read_csv('NumpyCsvTraining.csv')\n",
    "dframe"
   ]
  },
  {
   "cell_type": "code",
   "execution_count": 13,
   "metadata": {},
   "outputs": [
    {
     "data": {
      "text/html": [
       "<div>\n",
       "<style scoped>\n",
       "    .dataframe tbody tr th:only-of-type {\n",
       "        vertical-align: middle;\n",
       "    }\n",
       "\n",
       "    .dataframe tbody tr th {\n",
       "        vertical-align: top;\n",
       "    }\n",
       "\n",
       "    .dataframe thead th {\n",
       "        text-align: right;\n",
       "    }\n",
       "</style>\n",
       "<table border=\"1\" class=\"dataframe\">\n",
       "  <thead>\n",
       "    <tr style=\"text-align: right;\">\n",
       "      <th></th>\n",
       "      <th>Timestamp</th>\n",
       "      <th>CAM OPERATOR BADGE#</th>\n",
       "      <th>SCAN CASE NUMBER</th>\n",
       "      <th>DEFECT CATEGORY</th>\n",
       "      <th>DEFECT DESCRIPTION</th>\n",
       "      <th>LOCATION WHEN DAMAGED WAS NOTICED</th>\n",
       "    </tr>\n",
       "  </thead>\n",
       "  <tbody>\n",
       "    <tr>\n",
       "      <th>count</th>\n",
       "      <td>300</td>\n",
       "      <td>300</td>\n",
       "      <td>300</td>\n",
       "      <td>300</td>\n",
       "      <td>295</td>\n",
       "      <td>300</td>\n",
       "    </tr>\n",
       "    <tr>\n",
       "      <th>unique</th>\n",
       "      <td>300</td>\n",
       "      <td>12</td>\n",
       "      <td>252</td>\n",
       "      <td>9</td>\n",
       "      <td>195</td>\n",
       "      <td>2</td>\n",
       "    </tr>\n",
       "    <tr>\n",
       "      <th>top</th>\n",
       "      <td>3/17/2020 14:59:29</td>\n",
       "      <td>ABEVELL</td>\n",
       "      <td>ROLO101520005758</td>\n",
       "      <td>BROKEN / CHIPPED / CRACKED</td>\n",
       "      <td>TOO OPAQUE</td>\n",
       "      <td>POST CAM</td>\n",
       "    </tr>\n",
       "    <tr>\n",
       "      <th>freq</th>\n",
       "      <td>1</td>\n",
       "      <td>72</td>\n",
       "      <td>4</td>\n",
       "      <td>65</td>\n",
       "      <td>22</td>\n",
       "      <td>186</td>\n",
       "    </tr>\n",
       "  </tbody>\n",
       "</table>\n",
       "</div>"
      ],
      "text/plain": [
       "                 Timestamp CAM OPERATOR BADGE#  SCAN CASE NUMBER  \\\n",
       "count                  300                 300               300   \n",
       "unique                 300                  12               252   \n",
       "top     3/17/2020 14:59:29             ABEVELL  ROLO101520005758   \n",
       "freq                     1                  72                 4   \n",
       "\n",
       "                   DEFECT CATEGORY DEFECT DESCRIPTION  \\\n",
       "count                          300                295   \n",
       "unique                           9                195   \n",
       "top     BROKEN / CHIPPED / CRACKED         TOO OPAQUE   \n",
       "freq                            65                 22   \n",
       "\n",
       "       LOCATION WHEN DAMAGED WAS NOTICED  \n",
       "count                                300  \n",
       "unique                                 2  \n",
       "top                             POST CAM  \n",
       "freq                                 186  "
      ]
     },
     "execution_count": 13,
     "metadata": {},
     "output_type": "execute_result"
    }
   ],
   "source": [
    "dframe.describe()"
   ]
  },
  {
   "cell_type": "markdown",
   "metadata": {},
   "source": [
    "We can also save as an excel file by using the statement below.  We can also use to_csv('NumpyCsvTraining.csv') to save as csv file.  It all still works flawlessly:)"
   ]
  },
  {
   "cell_type": "code",
   "execution_count": 16,
   "metadata": {},
   "outputs": [],
   "source": [
    "dframe.to_excel('NumpyCsvTraining.xlsx')"
   ]
  },
  {
   "cell_type": "code",
   "execution_count": 3,
   "metadata": {},
   "outputs": [
    {
     "data": {
      "text/html": [
       "<div>\n",
       "<style scoped>\n",
       "    .dataframe tbody tr th:only-of-type {\n",
       "        vertical-align: middle;\n",
       "    }\n",
       "\n",
       "    .dataframe tbody tr th {\n",
       "        vertical-align: top;\n",
       "    }\n",
       "\n",
       "    .dataframe thead th {\n",
       "        text-align: right;\n",
       "    }\n",
       "</style>\n",
       "<table border=\"1\" class=\"dataframe\">\n",
       "  <thead>\n",
       "    <tr style=\"text-align: right;\">\n",
       "      <th></th>\n",
       "      <th>0</th>\n",
       "      <th>1</th>\n",
       "      <th>2</th>\n",
       "      <th>3</th>\n",
       "      <th>4</th>\n",
       "    </tr>\n",
       "  </thead>\n",
       "  <tbody>\n",
       "    <tr>\n",
       "      <th>0</th>\n",
       "      <td>q</td>\n",
       "      <td>r</td>\n",
       "      <td>s</td>\n",
       "      <td>t</td>\n",
       "      <td>apple</td>\n",
       "    </tr>\n",
       "    <tr>\n",
       "      <th>1</th>\n",
       "      <td>2</td>\n",
       "      <td>3</td>\n",
       "      <td>4</td>\n",
       "      <td>5</td>\n",
       "      <td>pear</td>\n",
       "    </tr>\n",
       "    <tr>\n",
       "      <th>2</th>\n",
       "      <td>a</td>\n",
       "      <td>s</td>\n",
       "      <td>d</td>\n",
       "      <td>f</td>\n",
       "      <td>rabbit</td>\n",
       "    </tr>\n",
       "    <tr>\n",
       "      <th>3</th>\n",
       "      <td>5</td>\n",
       "      <td>2</td>\n",
       "      <td>5</td>\n",
       "      <td>7</td>\n",
       "      <td>dog</td>\n",
       "    </tr>\n",
       "  </tbody>\n",
       "</table>\n",
       "</div>"
      ],
      "text/plain": [
       "   0  1  2  3       4\n",
       "0  q  r  s  t   apple\n",
       "1  2  3  4  5    pear\n",
       "2  a  s  d  f  rabbit\n",
       "3  5  2  5  7     dog"
      ]
     },
     "execution_count": 3,
     "metadata": {},
     "output_type": "execute_result"
    }
   ],
   "source": [
    "#To avoid the first row automatically becoming the header,\n",
    "#you can prevent with header=None\n",
    "dframe = pd.read_csv('CSVSample.csv',header = None)\n",
    "dframe"
   ]
  },
  {
   "cell_type": "markdown",
   "metadata": {},
   "source": [
    "We can also import csv files by using a read_table method (must add separator to work) as shown below."
   ]
  },
  {
   "cell_type": "code",
   "execution_count": 4,
   "metadata": {},
   "outputs": [
    {
     "data": {
      "text/html": [
       "<div>\n",
       "<style scoped>\n",
       "    .dataframe tbody tr th:only-of-type {\n",
       "        vertical-align: middle;\n",
       "    }\n",
       "\n",
       "    .dataframe tbody tr th {\n",
       "        vertical-align: top;\n",
       "    }\n",
       "\n",
       "    .dataframe thead th {\n",
       "        text-align: right;\n",
       "    }\n",
       "</style>\n",
       "<table border=\"1\" class=\"dataframe\">\n",
       "  <thead>\n",
       "    <tr style=\"text-align: right;\">\n",
       "      <th></th>\n",
       "      <th>0</th>\n",
       "      <th>1</th>\n",
       "      <th>2</th>\n",
       "      <th>3</th>\n",
       "      <th>4</th>\n",
       "    </tr>\n",
       "  </thead>\n",
       "  <tbody>\n",
       "    <tr>\n",
       "      <th>0</th>\n",
       "      <td>q</td>\n",
       "      <td>r</td>\n",
       "      <td>s</td>\n",
       "      <td>t</td>\n",
       "      <td>apple</td>\n",
       "    </tr>\n",
       "    <tr>\n",
       "      <th>1</th>\n",
       "      <td>2</td>\n",
       "      <td>3</td>\n",
       "      <td>4</td>\n",
       "      <td>5</td>\n",
       "      <td>pear</td>\n",
       "    </tr>\n",
       "    <tr>\n",
       "      <th>2</th>\n",
       "      <td>a</td>\n",
       "      <td>s</td>\n",
       "      <td>d</td>\n",
       "      <td>f</td>\n",
       "      <td>rabbit</td>\n",
       "    </tr>\n",
       "    <tr>\n",
       "      <th>3</th>\n",
       "      <td>5</td>\n",
       "      <td>2</td>\n",
       "      <td>5</td>\n",
       "      <td>7</td>\n",
       "      <td>dog</td>\n",
       "    </tr>\n",
       "  </tbody>\n",
       "</table>\n",
       "</div>"
      ],
      "text/plain": [
       "   0  1  2  3       4\n",
       "0  q  r  s  t   apple\n",
       "1  2  3  4  5    pear\n",
       "2  a  s  d  f  rabbit\n",
       "3  5  2  5  7     dog"
      ]
     },
     "execution_count": 4,
     "metadata": {},
     "output_type": "execute_result"
    }
   ],
   "source": [
    "dframe = pd.read_table('CSVSample.csv',sep=',',header = None)\n",
    "dframe"
   ]
  },
  {
   "cell_type": "markdown",
   "metadata": {},
   "source": [
    "To export a file as a csv, we can do so by doing what is shown below."
   ]
  },
  {
   "cell_type": "code",
   "execution_count": 5,
   "metadata": {},
   "outputs": [],
   "source": [
    "dframe.to_csv('mytextdata_out.csv')"
   ]
  },
  {
   "cell_type": "code",
   "execution_count": 6,
   "metadata": {},
   "outputs": [],
   "source": [
    "import sys\n"
   ]
  },
  {
   "cell_type": "code",
   "execution_count": 7,
   "metadata": {},
   "outputs": [
    {
     "name": "stdout",
     "output_type": "stream",
     "text": [
      ",0,1,2,3,4\r\n",
      "0,q,r,s,t,apple\r\n",
      "1,2,3,4,5,pear\r\n",
      "2,a,s,d,f,rabbit\r\n",
      "3,5,2,5,7,dog\r\n"
     ]
    }
   ],
   "source": [
    "dframe.to_csv(sys.stdout)"
   ]
  },
  {
   "cell_type": "code",
   "execution_count": 8,
   "metadata": {},
   "outputs": [
    {
     "name": "stdout",
     "output_type": "stream",
     "text": [
      "_0_1_2_3_4\r\n",
      "0_q_r_s_t_apple\r\n",
      "1_2_3_4_5_pear\r\n",
      "2_a_s_d_f_rabbit\r\n",
      "3_5_2_5_7_dog\r\n"
     ]
    },
    {
     "data": {
      "text/html": [
       "<div>\n",
       "<style scoped>\n",
       "    .dataframe tbody tr th:only-of-type {\n",
       "        vertical-align: middle;\n",
       "    }\n",
       "\n",
       "    .dataframe tbody tr th {\n",
       "        vertical-align: top;\n",
       "    }\n",
       "\n",
       "    .dataframe thead th {\n",
       "        text-align: right;\n",
       "    }\n",
       "</style>\n",
       "<table border=\"1\" class=\"dataframe\">\n",
       "  <thead>\n",
       "    <tr style=\"text-align: right;\">\n",
       "      <th></th>\n",
       "      <th>0</th>\n",
       "      <th>1</th>\n",
       "      <th>2</th>\n",
       "      <th>3</th>\n",
       "      <th>4</th>\n",
       "    </tr>\n",
       "  </thead>\n",
       "  <tbody>\n",
       "    <tr>\n",
       "      <th>0</th>\n",
       "      <td>q</td>\n",
       "      <td>r</td>\n",
       "      <td>s</td>\n",
       "      <td>t</td>\n",
       "      <td>apple</td>\n",
       "    </tr>\n",
       "    <tr>\n",
       "      <th>1</th>\n",
       "      <td>2</td>\n",
       "      <td>3</td>\n",
       "      <td>4</td>\n",
       "      <td>5</td>\n",
       "      <td>pear</td>\n",
       "    </tr>\n",
       "    <tr>\n",
       "      <th>2</th>\n",
       "      <td>a</td>\n",
       "      <td>s</td>\n",
       "      <td>d</td>\n",
       "      <td>f</td>\n",
       "      <td>rabbit</td>\n",
       "    </tr>\n",
       "    <tr>\n",
       "      <th>3</th>\n",
       "      <td>5</td>\n",
       "      <td>2</td>\n",
       "      <td>5</td>\n",
       "      <td>7</td>\n",
       "      <td>dog</td>\n",
       "    </tr>\n",
       "  </tbody>\n",
       "</table>\n",
       "</div>"
      ],
      "text/plain": [
       "   0  1  2  3       4\n",
       "0  q  r  s  t   apple\n",
       "1  2  3  4  5    pear\n",
       "2  a  s  d  f  rabbit\n",
       "3  5  2  5  7     dog"
      ]
     },
     "execution_count": 8,
     "metadata": {},
     "output_type": "execute_result"
    }
   ],
   "source": [
    "dframe.to_csv(sys.stdout, sep='_')\n",
    "dframe\n"
   ]
  },
  {
   "cell_type": "code",
   "execution_count": 9,
   "metadata": {},
   "outputs": [
    {
     "name": "stdout",
     "output_type": "stream",
     "text": [
      ",0,1,2\r\n",
      "0,q,r,s\r\n",
      "1,2,3,4\r\n",
      "2,a,s,d\r\n",
      "3,5,2,5\r\n"
     ]
    }
   ],
   "source": [
    "dframe.to_csv(sys.stdout,columns=[0,1,2])"
   ]
  },
  {
   "cell_type": "markdown",
   "metadata": {},
   "source": [
    "The point of the import of sys was to facilitate viewing of csv files without using notepad and not needing to constantly change dframe."
   ]
  },
  {
   "cell_type": "markdown",
   "metadata": {},
   "source": [
    "JSON with python and pandas.  What looks like a dictionary below is a json file.  WE can change it to something usable in pandas by using the variable = jason.loads(name of json_obj) method.  "
   ]
  },
  {
   "cell_type": "code",
   "execution_count": 42,
   "metadata": {},
   "outputs": [],
   "source": [
    "json_obj = \"\"\"\n",
    "{   \"zoo_animal\": \"Lion\",\n",
    "    \"food\": [\"Meat\", \"Veggies\", \"Honey\"],\n",
    "    \"fur\": \"Golden\",\n",
    "    \"clothes\": null, \n",
    "    \"diet\": [{\"zoo_animal\": \"Gazelle\", \"food\":\"grass\", \"fur\": \"Brown\"}]\n",
    "}\n",
    "\"\"\""
   ]
  },
  {
   "cell_type": "code",
   "execution_count": 43,
   "metadata": {},
   "outputs": [],
   "source": [
    "import json"
   ]
  },
  {
   "cell_type": "code",
   "execution_count": 44,
   "metadata": {},
   "outputs": [],
   "source": [
    "data = json.loads(json_obj)"
   ]
  },
  {
   "cell_type": "code",
   "execution_count": 45,
   "metadata": {},
   "outputs": [
    {
     "data": {
      "text/plain": [
       "{'zoo_animal': 'Lion',\n",
       " 'food': ['Meat', 'Veggies', 'Honey'],\n",
       " 'fur': 'Golden',\n",
       " 'clothes': None,\n",
       " 'diet': [{'zoo_animal': 'Gazelle', 'food': 'grass', 'fur': 'Brown'}]}"
      ]
     },
     "execution_count": 45,
     "metadata": {},
     "output_type": "execute_result"
    }
   ],
   "source": [
    "data"
   ]
  },
  {
   "cell_type": "markdown",
   "metadata": {},
   "source": [
    "We can change it back to json by using the json.dumps(variable name) method."
   ]
  },
  {
   "cell_type": "code",
   "execution_count": 21,
   "metadata": {},
   "outputs": [
    {
     "data": {
      "text/plain": [
       "'{\"zoo_animal\": \"Lion\", \"food\": [\"Meat\", \"Veggies\", \"Honey\"], \"fur\": \"Golden\", \"clothes\": null, \"diet\": [{\"zoo_animal\": \"Gazelle\", \"food\": \"grass\", \"fur\": \"Brown\"}]}'"
      ]
     },
     "execution_count": 21,
     "metadata": {},
     "output_type": "execute_result"
    }
   ],
   "source": [
    "json.dumps(data)"
   ]
  },
  {
   "cell_type": "code",
   "execution_count": 49,
   "metadata": {},
   "outputs": [],
   "source": [
    "dframe=DataFrame([data])"
   ]
  },
  {
   "cell_type": "code",
   "execution_count": 50,
   "metadata": {},
   "outputs": [
    {
     "data": {
      "text/html": [
       "<div>\n",
       "<style scoped>\n",
       "    .dataframe tbody tr th:only-of-type {\n",
       "        vertical-align: middle;\n",
       "    }\n",
       "\n",
       "    .dataframe tbody tr th {\n",
       "        vertical-align: top;\n",
       "    }\n",
       "\n",
       "    .dataframe thead th {\n",
       "        text-align: right;\n",
       "    }\n",
       "</style>\n",
       "<table border=\"1\" class=\"dataframe\">\n",
       "  <thead>\n",
       "    <tr style=\"text-align: right;\">\n",
       "      <th></th>\n",
       "      <th>zoo_animal</th>\n",
       "      <th>food</th>\n",
       "      <th>fur</th>\n",
       "      <th>clothes</th>\n",
       "      <th>diet</th>\n",
       "    </tr>\n",
       "  </thead>\n",
       "  <tbody>\n",
       "    <tr>\n",
       "      <th>0</th>\n",
       "      <td>Lion</td>\n",
       "      <td>[Meat, Veggies, Honey]</td>\n",
       "      <td>Golden</td>\n",
       "      <td>None</td>\n",
       "      <td>[{'zoo_animal': 'Gazelle', 'food': 'grass', 'f...</td>\n",
       "    </tr>\n",
       "  </tbody>\n",
       "</table>\n",
       "</div>"
      ],
      "text/plain": [
       "  zoo_animal                    food     fur clothes  \\\n",
       "0       Lion  [Meat, Veggies, Honey]  Golden    None   \n",
       "\n",
       "                                                diet  \n",
       "0  [{'zoo_animal': 'Gazelle', 'food': 'grass', 'f...  "
      ]
     },
     "execution_count": 50,
     "metadata": {},
     "output_type": "execute_result"
    }
   ],
   "source": [
    "dframe"
   ]
  },
  {
   "cell_type": "code",
   "execution_count": 53,
   "metadata": {},
   "outputs": [
    {
     "data": {
      "text/html": [
       "<div>\n",
       "<style scoped>\n",
       "    .dataframe tbody tr th:only-of-type {\n",
       "        vertical-align: middle;\n",
       "    }\n",
       "\n",
       "    .dataframe tbody tr th {\n",
       "        vertical-align: top;\n",
       "    }\n",
       "\n",
       "    .dataframe thead th {\n",
       "        text-align: right;\n",
       "    }\n",
       "</style>\n",
       "<table border=\"1\" class=\"dataframe\">\n",
       "  <thead>\n",
       "    <tr style=\"text-align: right;\">\n",
       "      <th></th>\n",
       "      <th>zoo_animal</th>\n",
       "      <th>food</th>\n",
       "      <th>fur</th>\n",
       "    </tr>\n",
       "  </thead>\n",
       "  <tbody>\n",
       "    <tr>\n",
       "      <th>0</th>\n",
       "      <td>Gazelle</td>\n",
       "      <td>grass</td>\n",
       "      <td>Brown</td>\n",
       "    </tr>\n",
       "  </tbody>\n",
       "</table>\n",
       "</div>"
      ],
      "text/plain": [
       "  zoo_animal   food    fur\n",
       "0    Gazelle  grass  Brown"
      ]
     },
     "execution_count": 53,
     "metadata": {},
     "output_type": "execute_result"
    }
   ],
   "source": [
    "dframe=DataFrame(data['diet'])\n",
    "dframe"
   ]
  },
  {
   "cell_type": "markdown",
   "metadata": {},
   "source": [
    "html with python and pandas"
   ]
  },
  {
   "cell_type": "code",
   "execution_count": 55,
   "metadata": {},
   "outputs": [],
   "source": [
    "import numpy as np\n",
    "import pandas as pd\n",
    "from pandas import Series,DataFrame\n",
    "from pandas import read_html"
   ]
  },
  {
   "cell_type": "code",
   "execution_count": 84,
   "metadata": {},
   "outputs": [],
   "source": [
    "url = 'http://www.fdic.gov/bank/individual/failed/banklist.html'"
   ]
  },
  {
   "cell_type": "code",
   "execution_count": 85,
   "metadata": {},
   "outputs": [],
   "source": [
    "dframe_list=pd.io.html.read_html(url)"
   ]
  },
  {
   "cell_type": "code",
   "execution_count": 58,
   "metadata": {},
   "outputs": [
    {
     "data": {
      "text/html": [
       "<div>\n",
       "<style scoped>\n",
       "    .dataframe tbody tr th:only-of-type {\n",
       "        vertical-align: middle;\n",
       "    }\n",
       "\n",
       "    .dataframe tbody tr th {\n",
       "        vertical-align: top;\n",
       "    }\n",
       "\n",
       "    .dataframe thead th {\n",
       "        text-align: right;\n",
       "    }\n",
       "</style>\n",
       "<table border=\"1\" class=\"dataframe\">\n",
       "  <thead>\n",
       "    <tr style=\"text-align: right;\">\n",
       "      <th></th>\n",
       "      <th>Bank Name</th>\n",
       "      <th>City</th>\n",
       "      <th>ST</th>\n",
       "      <th>CERT</th>\n",
       "      <th>Acquiring Institution</th>\n",
       "      <th>Closing Date</th>\n",
       "    </tr>\n",
       "  </thead>\n",
       "  <tbody>\n",
       "    <tr>\n",
       "      <th>0</th>\n",
       "      <td>Ericson State Bank</td>\n",
       "      <td>Ericson</td>\n",
       "      <td>NE</td>\n",
       "      <td>18265</td>\n",
       "      <td>Farmers and Merchants Bank</td>\n",
       "      <td>February 14, 2020</td>\n",
       "    </tr>\n",
       "    <tr>\n",
       "      <th>1</th>\n",
       "      <td>City National Bank of New Jersey</td>\n",
       "      <td>Newark</td>\n",
       "      <td>NJ</td>\n",
       "      <td>21111</td>\n",
       "      <td>Industrial Bank</td>\n",
       "      <td>November 1, 2019</td>\n",
       "    </tr>\n",
       "    <tr>\n",
       "      <th>2</th>\n",
       "      <td>Resolute Bank</td>\n",
       "      <td>Maumee</td>\n",
       "      <td>OH</td>\n",
       "      <td>58317</td>\n",
       "      <td>Buckeye State Bank</td>\n",
       "      <td>October 25, 2019</td>\n",
       "    </tr>\n",
       "    <tr>\n",
       "      <th>3</th>\n",
       "      <td>Louisa Community Bank</td>\n",
       "      <td>Louisa</td>\n",
       "      <td>KY</td>\n",
       "      <td>58112</td>\n",
       "      <td>Kentucky Farmers Bank Corporation</td>\n",
       "      <td>October 25, 2019</td>\n",
       "    </tr>\n",
       "    <tr>\n",
       "      <th>4</th>\n",
       "      <td>The Enloe State Bank</td>\n",
       "      <td>Cooper</td>\n",
       "      <td>TX</td>\n",
       "      <td>10716</td>\n",
       "      <td>Legend Bank, N. A.</td>\n",
       "      <td>May 31, 2019</td>\n",
       "    </tr>\n",
       "    <tr>\n",
       "      <th>...</th>\n",
       "      <td>...</td>\n",
       "      <td>...</td>\n",
       "      <td>...</td>\n",
       "      <td>...</td>\n",
       "      <td>...</td>\n",
       "      <td>...</td>\n",
       "    </tr>\n",
       "    <tr>\n",
       "      <th>555</th>\n",
       "      <td>Superior Bank, FSB</td>\n",
       "      <td>Hinsdale</td>\n",
       "      <td>IL</td>\n",
       "      <td>32646</td>\n",
       "      <td>Superior Federal, FSB</td>\n",
       "      <td>July 27, 2001</td>\n",
       "    </tr>\n",
       "    <tr>\n",
       "      <th>556</th>\n",
       "      <td>Malta National Bank</td>\n",
       "      <td>Malta</td>\n",
       "      <td>OH</td>\n",
       "      <td>6629</td>\n",
       "      <td>North Valley Bank</td>\n",
       "      <td>May 3, 2001</td>\n",
       "    </tr>\n",
       "    <tr>\n",
       "      <th>557</th>\n",
       "      <td>First Alliance Bank &amp; Trust Co.</td>\n",
       "      <td>Manchester</td>\n",
       "      <td>NH</td>\n",
       "      <td>34264</td>\n",
       "      <td>Southern New Hampshire Bank &amp; Trust</td>\n",
       "      <td>February 2, 2001</td>\n",
       "    </tr>\n",
       "    <tr>\n",
       "      <th>558</th>\n",
       "      <td>National State Bank of Metropolis</td>\n",
       "      <td>Metropolis</td>\n",
       "      <td>IL</td>\n",
       "      <td>3815</td>\n",
       "      <td>Banterra Bank of Marion</td>\n",
       "      <td>December 14, 2000</td>\n",
       "    </tr>\n",
       "    <tr>\n",
       "      <th>559</th>\n",
       "      <td>Bank of Honolulu</td>\n",
       "      <td>Honolulu</td>\n",
       "      <td>HI</td>\n",
       "      <td>21029</td>\n",
       "      <td>Bank of the Orient</td>\n",
       "      <td>October 13, 2000</td>\n",
       "    </tr>\n",
       "  </tbody>\n",
       "</table>\n",
       "<p>560 rows × 6 columns</p>\n",
       "</div>"
      ],
      "text/plain": [
       "                             Bank Name        City  ST   CERT  \\\n",
       "0                   Ericson State Bank     Ericson  NE  18265   \n",
       "1     City National Bank of New Jersey      Newark  NJ  21111   \n",
       "2                        Resolute Bank      Maumee  OH  58317   \n",
       "3                Louisa Community Bank      Louisa  KY  58112   \n",
       "4                 The Enloe State Bank      Cooper  TX  10716   \n",
       "..                                 ...         ...  ..    ...   \n",
       "555                 Superior Bank, FSB    Hinsdale  IL  32646   \n",
       "556                Malta National Bank       Malta  OH   6629   \n",
       "557    First Alliance Bank & Trust Co.  Manchester  NH  34264   \n",
       "558  National State Bank of Metropolis  Metropolis  IL   3815   \n",
       "559                   Bank of Honolulu    Honolulu  HI  21029   \n",
       "\n",
       "                   Acquiring Institution       Closing Date  \n",
       "0             Farmers and Merchants Bank  February 14, 2020  \n",
       "1                        Industrial Bank   November 1, 2019  \n",
       "2                     Buckeye State Bank   October 25, 2019  \n",
       "3      Kentucky Farmers Bank Corporation   October 25, 2019  \n",
       "4                     Legend Bank, N. A.       May 31, 2019  \n",
       "..                                   ...                ...  \n",
       "555                Superior Federal, FSB      July 27, 2001  \n",
       "556                    North Valley Bank        May 3, 2001  \n",
       "557  Southern New Hampshire Bank & Trust   February 2, 2001  \n",
       "558              Banterra Bank of Marion  December 14, 2000  \n",
       "559                   Bank of the Orient   October 13, 2000  \n",
       "\n",
       "[560 rows x 6 columns]"
      ]
     },
     "execution_count": 58,
     "metadata": {},
     "output_type": "execute_result"
    }
   ],
   "source": [
    "dframe = dframe_list[0]\n",
    "dframe"
   ]
  },
  {
   "cell_type": "code",
   "execution_count": 62,
   "metadata": {},
   "outputs": [
    {
     "data": {
      "text/plain": [
       "array(['Bank Name', 'City', 'ST', 'CERT', 'Acquiring Institution',\n",
       "       'Closing Date'], dtype=object)"
      ]
     },
     "execution_count": 62,
     "metadata": {},
     "output_type": "execute_result"
    }
   ],
   "source": [
    "dframe.columns.values"
   ]
  },
  {
   "cell_type": "markdown",
   "metadata": {},
   "source": [
    "on a side note, here is how to open a pdf file with python. I figured this out after one of the sites I tried to scrape for info gave me a pdf that threw errors using the html reader option.  First I had to pip install PyPDF2. Then I had to import it.  "
   ]
  },
  {
   "cell_type": "code",
   "execution_count": 77,
   "metadata": {},
   "outputs": [
    {
     "data": {
      "text/plain": [
       "1"
      ]
     },
     "execution_count": 77,
     "metadata": {},
     "output_type": "execute_result"
    }
   ],
   "source": [
    "import PyPDF2\n",
    "#We assing the pdf to an python object with this open line and we tell it to do it in 'read binary mode' with the ,'rb'\n",
    "pdfFileObj= open('Sample.pdf','rb')\n",
    "#We then take the binary object and assing it to an object readable to us with PyPDR2.PdfFileReader(binary object variable)\n",
    "#shown below:\n",
    "pdfReader = PyPDF2.PdfFileReader(pdfFileObj)\n",
    "#Then we make sure we don't walk into surprises by checking the number of pages with this method below:\n",
    "pdfReader.numPages"
   ]
  },
  {
   "cell_type": "code",
   "execution_count": 76,
   "metadata": {},
   "outputs": [
    {
     "data": {
      "text/plain": [
       "'1\\n \\n \\n \\n \\n \\nNORTH DAKOTA INDUSTR\\nIAL COMMISSION\\n \\n \\n  \\n \\nDATE:\\n \\nMarch \\n2\\n7\\n, \\n \\n2020\\n \\n     \\nDA\\nILY REPORT: \\n179\\n8\\n4\\n \\n \\nPERMITS APPROVE\\nD:\\n \\n#374\\n7\\n7 \\n\\n \\nLIBERTY RESOURCES MANAGEMENT COMPANY, LLC\\n, \\nMCGINNITY E\\n \\n159\\n-\\n95\\n-\\n31\\n-\\n30\\n-\\n1MBH\\n, \\nN\\nE\\nN\\nE\\n, \\n6\\n-\\n1\\n60\\nN\\n-\\n9\\n5\\nW, \\nWILLIAMS\\n, \\n3\\n00\\n\\nN\\nL AND \\n1195\\n\\nW\\nL, DEVELOPMENT,\\n\\nNORTHWEST \\nMCGREGOR\\n, 2\\n3\\n84\\n\\n-\\n105\\n-\\n05451\\n \\n \\nADDITIONAL INFORMATI\\nON:\\n \\n\\n\\n \\n#28114 \\n-\\n \\nSLAWSON EXPLORATION COMPANY, INC., SNIPER FEDERAL 7\\n-\\n6\\n-\\n7TFH, LOT2 6\\n-\\n151N\\n-\\n92W, MOUNTRAIL CO., BAKKEN\\n \\n#34601 \\n-\\n \\nMARATHON OIL COMPANY, SALVESON USA 24\\n-\\n21H, NENW 28\\n-\\n151N\\n-\\n93W, MOUNTRAIL \\nCO., BAKKEN\\n \\n#35052 \\n-\\n \\nWHITING OIL AND GAS CORPORATION, LASSEY 21\\n-\\n22\\n-\\n2H, NENW 27\\n-\\n152N\\n-\\n103W, \\nMCKENZIE CO., 2376 bopd, 4200 bwpd \\n-\\n \\nBAKKEN\\n \\n#35478 \\n-\\n \\nNINE POINT ENERGY, LLC, NORDTUG 155\\n-\\n102\\n-\\n23\\n-\\n14\\n-\\n3H, SWSE 23\\n-\\n155N\\n-\\n102W, WILLIAMS \\nCO., 595 bopd, 1707 bwpd \\n-\\n \\nBAKKEN\\n \\n#35479 \\n-\\n \\nNINE POINT ENERGY, LLC, NORDTUG 155\\n-\\n102\\n-\\n23\\n-\\n14\\n-\\n2H, SWSE 23\\n-\\n155N\\n-\\n102W, WILLIAMS \\nCO., 205 bopd, 748 bwpd \\n-\\n \\nBAKKEN\\n \\n#36546 \\n-\\n \\nWHITING OIL AND GAS CORPORATION, HAUGE 44\\n-\\n36HU, SESE 36\\n-\\n1\\n53N\\n-\\n91W, \\nMOUNTRAIL CO., 1227 bopd, 323 bwpd \\n-\\n \\nBAKKEN\\n \\n#36726 \\n-\\n \\nWPX ENERGY WILLISTON, LLC, SKUNK CREEK  1\\n-\\n12HQL, LOT2 1\\n-\\n148N\\n-\\n93W, DUNN CO., \\nBAKKEN\\n \\n \\nPRODUCING WELLS COMP\\nLETED:\\n \\n#34382 \\n-\\n \\nBURLINGTON RESOURCES OIL & GAS COMPANY LP, VEEDER   3C MBH, SESW 24\\n-\\n150N\\n-\\n9\\n6W, MCKENZIE CO.,  BOPD,  BWPD \\n-\\n \\n \\n#36286 \\n-\\n \\nBURLINGTON RESOURCES OIL & GAS COMPANY LP, VEEDER 3E MBH, SESW 24\\n-\\n150N\\n-\\n96W, MCKENZIE CO.,  BOPD,  BWPD \\n-\\n \\n \\n#35912 \\n-\\n \\nCONTINENTAL RESOURCES, INC., JAMESTOWN FEDERAL 14\\n-\\n17HSL1, NWNW 16\\n-\\n152N\\n-\\n99W, MCKENZIE CO.,  BOPD,  \\nBWPD \\n-\\n \\n \\n#36287 \\n-\\n \\nBURLINGTON RESOURCES OIL & GAS COMPANY LP, VEEDER 3D TFH, SESW 24\\n-\\n150N\\n-\\n96W, MCKENZIE CO.,  BOPD,  BWPD \\n-\\n \\n \\n#33183 \\n-\\n \\nBURLINGTON RESOURCES OIL & GAS COMPANY LP, FRANKLIN 44\\n-\\n36TFH, SESE 36\\n-\\n147N\\n-\\n97W, DUNN CO.,  BOPD,  BWPD \\n-\\n \\n \\n#35913 \\n-\\n \\nCONTINENT\\nAL RESOURCES, INC., WAHPETON 15\\n-\\n16HSL, NWNW 16\\n-\\n152N\\n-\\n99W, \\nMCKENZIE CO.,  BOPD,  BWPD \\n\\n \\n \\nPERMIT RENEWALS:\\n \\n#90440 \\n-\\n \\nOASIS PETROLEUM NORTH AMERICA LLC, CHERYL SWD 5501 44\\n-\\n09, SESE 9\\n-\\n155N\\n-\\n101W, \\nWILLIAMS CO.\\n \\n \\n \\n \\n \\n \\n'"
      ]
     },
     "execution_count": 76,
     "metadata": {},
     "output_type": "execute_result"
    }
   ],
   "source": [
    "#Here we create a page object that holds a single page of readable text.  Our pdf was only one page,\n",
    "#but I wanted to include it for future reference.\n",
    "pageObj=pdfReader.getPage(0)\n",
    "#then we use the .extractText() method to show a string of our page of text.\n",
    "pageObj.extractText()"
   ]
  },
  {
   "cell_type": "markdown",
   "metadata": {},
   "source": [
    "The info above can now be manipulated as easily as one would in notepad,but it can also be saved as a pdf again after editing.  As a matter of fact, one of the powers of this module is we can take multiple pdfs and cut and paste different pieces into a new pdf with relative ease.  Reference Automate the boring stuff with Python in your ebooks for more info"
   ]
  },
  {
   "cell_type": "markdown",
   "metadata": {},
   "source": [
    "working with excel files is as easy as working with CSV files.  In the example at the beginning of the page, I transformed a spreadsheet into a csv file in order to play with my newly learned skill.  Below is a more efficient method of working with excel files instead of saving them as csv files, but both methods work."
   ]
  },
  {
   "cell_type": "code",
   "execution_count": 78,
   "metadata": {},
   "outputs": [],
   "source": [
    "import pandas as pd\n",
    "import numpy as np\n",
    "from pandas import Series, DataFrame"
   ]
  },
  {
   "cell_type": "code",
   "execution_count": 81,
   "metadata": {},
   "outputs": [],
   "source": [
    "xfile = pd.ExcelFile('NumpyCsvTraining.xlsx')"
   ]
  },
  {
   "cell_type": "markdown",
   "metadata": {},
   "source": [
    "It is important to note that until you assing the variable holding the .method of the excel file to another variable (dframe=xfile.parse()), you can't just call it because it isn't correctly parsed.  The csv method automatically did this for you when it read the csv.  I think that along with the lack of proprietary feel of xlsx. files explains why people still use generic csv files today.  Just a hunch ...."
   ]
  },
  {
   "cell_type": "code",
   "execution_count": 82,
   "metadata": {},
   "outputs": [],
   "source": [
    "dframe = xfile.parse()"
   ]
  },
  {
   "cell_type": "code",
   "execution_count": 83,
   "metadata": {},
   "outputs": [
    {
     "data": {
      "text/html": [
       "<div>\n",
       "<style scoped>\n",
       "    .dataframe tbody tr th:only-of-type {\n",
       "        vertical-align: middle;\n",
       "    }\n",
       "\n",
       "    .dataframe tbody tr th {\n",
       "        vertical-align: top;\n",
       "    }\n",
       "\n",
       "    .dataframe thead th {\n",
       "        text-align: right;\n",
       "    }\n",
       "</style>\n",
       "<table border=\"1\" class=\"dataframe\">\n",
       "  <thead>\n",
       "    <tr style=\"text-align: right;\">\n",
       "      <th></th>\n",
       "      <th>Unnamed: 0</th>\n",
       "      <th>Timestamp</th>\n",
       "      <th>CAM OPERATOR BADGE#</th>\n",
       "      <th>SCAN CASE NUMBER</th>\n",
       "      <th>DEFECT CATEGORY</th>\n",
       "      <th>DEFECT DESCRIPTION</th>\n",
       "      <th>LOCATION WHEN DAMAGED WAS NOTICED</th>\n",
       "    </tr>\n",
       "  </thead>\n",
       "  <tbody>\n",
       "    <tr>\n",
       "      <th>0</th>\n",
       "      <td>0</td>\n",
       "      <td>3/2/2020 6:52:14</td>\n",
       "      <td>TSCHAFFER</td>\n",
       "      <td>SARA101520007444</td>\n",
       "      <td>LOST / MISSING</td>\n",
       "      <td>MISSING DURING MATCHING</td>\n",
       "      <td>IN CAM</td>\n",
       "    </tr>\n",
       "    <tr>\n",
       "      <th>1</th>\n",
       "      <td>1</td>\n",
       "      <td>3/2/2020 10:00:53</td>\n",
       "      <td>ABEVELL</td>\n",
       "      <td>ROLO101520006852</td>\n",
       "      <td>BROKEN / CHIPPED / CRACKED</td>\n",
       "      <td>CRACKED</td>\n",
       "      <td>POST CAM</td>\n",
       "    </tr>\n",
       "    <tr>\n",
       "      <th>2</th>\n",
       "      <td>2</td>\n",
       "      <td>3/2/2020 10:39:19</td>\n",
       "      <td>ABEVELL</td>\n",
       "      <td>ROLO101520007525</td>\n",
       "      <td>BROKEN / CHIPPED / CRACKED</td>\n",
       "      <td>BROKEN</td>\n",
       "      <td>POST CAM</td>\n",
       "    </tr>\n",
       "    <tr>\n",
       "      <th>3</th>\n",
       "      <td>3</td>\n",
       "      <td>3/2/2020 11:08:36</td>\n",
       "      <td>ABEVELL</td>\n",
       "      <td>ROLO101520007525</td>\n",
       "      <td>BROKEN / CHIPPED / CRACKED</td>\n",
       "      <td>BROKEN</td>\n",
       "      <td>POST CAM</td>\n",
       "    </tr>\n",
       "    <tr>\n",
       "      <th>4</th>\n",
       "      <td>4</td>\n",
       "      <td>3/2/2020 11:51:18</td>\n",
       "      <td>ABEVELL</td>\n",
       "      <td>ROLO101520007847</td>\n",
       "      <td>MILLING / NESTING ERROR</td>\n",
       "      <td>CHIPPED IN MILL</td>\n",
       "      <td>IN CAM</td>\n",
       "    </tr>\n",
       "    <tr>\n",
       "      <th>...</th>\n",
       "      <td>...</td>\n",
       "      <td>...</td>\n",
       "      <td>...</td>\n",
       "      <td>...</td>\n",
       "      <td>...</td>\n",
       "      <td>...</td>\n",
       "      <td>...</td>\n",
       "    </tr>\n",
       "    <tr>\n",
       "      <th>295</th>\n",
       "      <td>295</td>\n",
       "      <td>3/27/2020 8:47:29</td>\n",
       "      <td>TSCHAFFER</td>\n",
       "      <td>ROLO101520010886</td>\n",
       "      <td>SHADE / MATERIAL INCORRECT or CHANGED</td>\n",
       "      <td>TOO OPAQUE</td>\n",
       "      <td>POST CAM</td>\n",
       "    </tr>\n",
       "    <tr>\n",
       "      <th>296</th>\n",
       "      <td>296</td>\n",
       "      <td>3/28/2020 9:00:17</td>\n",
       "      <td>jsmolen</td>\n",
       "      <td>ROLO101520009404</td>\n",
       "      <td>FIT -- tight, loose, rocks, etc., etc., ...</td>\n",
       "      <td>pooor fit</td>\n",
       "      <td>POST CAM</td>\n",
       "    </tr>\n",
       "    <tr>\n",
       "      <th>297</th>\n",
       "      <td>297</td>\n",
       "      <td>3/28/2020 9:14:56</td>\n",
       "      <td>jsmolen</td>\n",
       "      <td>ROLO101520010886</td>\n",
       "      <td>OTHER</td>\n",
       "      <td>opaque</td>\n",
       "      <td>POST CAM</td>\n",
       "    </tr>\n",
       "    <tr>\n",
       "      <th>298</th>\n",
       "      <td>298</td>\n",
       "      <td>3/28/2020 9:50:45</td>\n",
       "      <td>jsmolen</td>\n",
       "      <td>SARA101520010971</td>\n",
       "      <td>OTHER</td>\n",
       "      <td>opaque</td>\n",
       "      <td>POST CAM</td>\n",
       "    </tr>\n",
       "    <tr>\n",
       "      <th>299</th>\n",
       "      <td>299</td>\n",
       "      <td>3/28/2020 10:53:52</td>\n",
       "      <td>jsmolen</td>\n",
       "      <td>SARA101520010971</td>\n",
       "      <td>BROKEN / CHIPPED / CRACKED</td>\n",
       "      <td>puck broke in mill</td>\n",
       "      <td>IN CAM</td>\n",
       "    </tr>\n",
       "  </tbody>\n",
       "</table>\n",
       "<p>300 rows × 7 columns</p>\n",
       "</div>"
      ],
      "text/plain": [
       "     Unnamed: 0           Timestamp CAM OPERATOR BADGE#  SCAN CASE NUMBER  \\\n",
       "0             0    3/2/2020 6:52:14           TSCHAFFER  SARA101520007444   \n",
       "1             1   3/2/2020 10:00:53             ABEVELL  ROLO101520006852   \n",
       "2             2   3/2/2020 10:39:19             ABEVELL  ROLO101520007525   \n",
       "3             3   3/2/2020 11:08:36             ABEVELL  ROLO101520007525   \n",
       "4             4   3/2/2020 11:51:18             ABEVELL  ROLO101520007847   \n",
       "..          ...                 ...                 ...               ...   \n",
       "295         295   3/27/2020 8:47:29           TSCHAFFER  ROLO101520010886   \n",
       "296         296   3/28/2020 9:00:17             jsmolen  ROLO101520009404   \n",
       "297         297   3/28/2020 9:14:56             jsmolen  ROLO101520010886   \n",
       "298         298   3/28/2020 9:50:45             jsmolen  SARA101520010971   \n",
       "299         299  3/28/2020 10:53:52             jsmolen  SARA101520010971   \n",
       "\n",
       "                                 DEFECT CATEGORY       DEFECT DESCRIPTION  \\\n",
       "0                                 LOST / MISSING  MISSING DURING MATCHING   \n",
       "1                     BROKEN / CHIPPED / CRACKED                  CRACKED   \n",
       "2                     BROKEN / CHIPPED / CRACKED                   BROKEN   \n",
       "3                     BROKEN / CHIPPED / CRACKED                   BROKEN   \n",
       "4                        MILLING / NESTING ERROR          CHIPPED IN MILL   \n",
       "..                                           ...                      ...   \n",
       "295        SHADE / MATERIAL INCORRECT or CHANGED               TOO OPAQUE   \n",
       "296  FIT -- tight, loose, rocks, etc., etc., ...                pooor fit   \n",
       "297                                        OTHER                   opaque   \n",
       "298                                        OTHER                   opaque   \n",
       "299                   BROKEN / CHIPPED / CRACKED       puck broke in mill   \n",
       "\n",
       "    LOCATION WHEN DAMAGED WAS NOTICED  \n",
       "0                              IN CAM  \n",
       "1                            POST CAM  \n",
       "2                            POST CAM  \n",
       "3                            POST CAM  \n",
       "4                              IN CAM  \n",
       "..                                ...  \n",
       "295                          POST CAM  \n",
       "296                          POST CAM  \n",
       "297                          POST CAM  \n",
       "298                          POST CAM  \n",
       "299                            IN CAM  \n",
       "\n",
       "[300 rows x 7 columns]"
      ]
     },
     "execution_count": 83,
     "metadata": {},
     "output_type": "execute_result"
    }
   ],
   "source": [
    "dframe\n"
   ]
  },
  {
   "cell_type": "code",
   "execution_count": null,
   "metadata": {},
   "outputs": [],
   "source": []
  }
 ],
 "metadata": {
  "kernelspec": {
   "display_name": "Python 3",
   "language": "python",
   "name": "python3"
  },
  "language_info": {
   "codemirror_mode": {
    "name": "ipython",
    "version": 3
   },
   "file_extension": ".py",
   "mimetype": "text/x-python",
   "name": "python",
   "nbconvert_exporter": "python",
   "pygments_lexer": "ipython3",
   "version": "3.8.1"
  }
 },
 "nbformat": 4,
 "nbformat_minor": 2
}
